{
 "cells": [
  {
   "cell_type": "markdown",
   "metadata": {},
   "source": [
    "## Data Preparation \n",
    "\n",
    "### Loading Dataset\n",
    "\n",
    "We will load the dataset for most relevant 95% DRGs"
   ]
  },
  {
   "cell_type": "code",
   "execution_count": 1,
   "metadata": {},
   "outputs": [],
   "source": [
    "# Required packages\n",
    "import pandas as pd\n",
    "import numpy as np\n",
    "from sklearn import preprocessing\n",
    "from sklearn.pipeline import Pipeline\n",
    "from sklearn.ensemble import RandomForestRegressor\n",
    "import altair as alt\n",
    "alt.renderers.enable('notebook')\n",
    "from sklearn.metrics import mean_squared_error\n",
    "from sklearn.metrics import mean_absolute_error\n",
    "from math import sqrt"
   ]
  },
  {
   "cell_type": "code",
   "execution_count": 2,
   "metadata": {},
   "outputs": [
    {
     "data": {
      "text/html": [
       "<div>\n",
       "<style scoped>\n",
       "    .dataframe tbody tr th:only-of-type {\n",
       "        vertical-align: middle;\n",
       "    }\n",
       "\n",
       "    .dataframe tbody tr th {\n",
       "        vertical-align: top;\n",
       "    }\n",
       "\n",
       "    .dataframe thead th {\n",
       "        text-align: right;\n",
       "    }\n",
       "</style>\n",
       "<table border=\"1\" class=\"dataframe\">\n",
       "  <thead>\n",
       "    <tr style=\"text-align: right;\">\n",
       "      <th></th>\n",
       "      <th>PatientID</th>\n",
       "      <th>IPEpisodeID</th>\n",
       "      <th>Gender Code</th>\n",
       "      <th>Age On Admission</th>\n",
       "      <th>Birth Weight</th>\n",
       "      <th>ATSI Flag</th>\n",
       "      <th>Admission Source Code</th>\n",
       "      <th>Admission Type Code</th>\n",
       "      <th>Admission Specialty</th>\n",
       "      <th>Discharge Specialty</th>\n",
       "      <th>Admission Ward Code</th>\n",
       "      <th>Discharge Ward Code</th>\n",
       "      <th>Separation Method Code</th>\n",
       "      <th>DRG Code</th>\n",
       "      <th>ICU LOS Hours</th>\n",
       "      <th>Total LOS Days</th>\n",
       "      <th>HITH Days</th>\n",
       "      <th>LOS Type</th>\n",
       "      <th>WIES Value</th>\n",
       "    </tr>\n",
       "  </thead>\n",
       "  <tbody>\n",
       "    <tr>\n",
       "      <th>0</th>\n",
       "      <td>973538</td>\n",
       "      <td>3320175</td>\n",
       "      <td>M</td>\n",
       "      <td>56</td>\n",
       "      <td>NaN</td>\n",
       "      <td>No</td>\n",
       "      <td>T</td>\n",
       "      <td>P</td>\n",
       "      <td>HIHC</td>\n",
       "      <td>HIHC</td>\n",
       "      <td>F2B</td>\n",
       "      <td>FHITH</td>\n",
       "      <td>H</td>\n",
       "      <td>K01C</td>\n",
       "      <td>NaN</td>\n",
       "      <td>34</td>\n",
       "      <td>67.94</td>\n",
       "      <td>Multiday</td>\n",
       "      <td>8.3579</td>\n",
       "    </tr>\n",
       "    <tr>\n",
       "      <th>1</th>\n",
       "      <td>1198129</td>\n",
       "      <td>3327705</td>\n",
       "      <td>F</td>\n",
       "      <td>81</td>\n",
       "      <td>NaN</td>\n",
       "      <td>No</td>\n",
       "      <td>S</td>\n",
       "      <td>S</td>\n",
       "      <td>GBS</td>\n",
       "      <td>GBS</td>\n",
       "      <td>SHITH</td>\n",
       "      <td>SHITH</td>\n",
       "      <td>H</td>\n",
       "      <td>G70A</td>\n",
       "      <td>NaN</td>\n",
       "      <td>10</td>\n",
       "      <td>55.36</td>\n",
       "      <td>Multiday</td>\n",
       "      <td>4.0218</td>\n",
       "    </tr>\n",
       "    <tr>\n",
       "      <th>2</th>\n",
       "      <td>319442</td>\n",
       "      <td>3333120</td>\n",
       "      <td>M</td>\n",
       "      <td>82</td>\n",
       "      <td>NaN</td>\n",
       "      <td>No</td>\n",
       "      <td>H</td>\n",
       "      <td>C</td>\n",
       "      <td>45</td>\n",
       "      <td>26</td>\n",
       "      <td>F2C</td>\n",
       "      <td>FHITH</td>\n",
       "      <td>H</td>\n",
       "      <td>K01C</td>\n",
       "      <td>NaN</td>\n",
       "      <td>18</td>\n",
       "      <td>102.62</td>\n",
       "      <td>Multiday</td>\n",
       "      <td>6.7687</td>\n",
       "    </tr>\n",
       "    <tr>\n",
       "      <th>3</th>\n",
       "      <td>1210448</td>\n",
       "      <td>3353681</td>\n",
       "      <td>M</td>\n",
       "      <td>88</td>\n",
       "      <td>NaN</td>\n",
       "      <td>No</td>\n",
       "      <td>H</td>\n",
       "      <td>C</td>\n",
       "      <td>CRGS</td>\n",
       "      <td>UGIG</td>\n",
       "      <td>F2E</td>\n",
       "      <td>F3E</td>\n",
       "      <td>H</td>\n",
       "      <td>G02A</td>\n",
       "      <td>146.62</td>\n",
       "      <td>41</td>\n",
       "      <td>0.00</td>\n",
       "      <td>Multiday</td>\n",
       "      <td>9.5665</td>\n",
       "    </tr>\n",
       "    <tr>\n",
       "      <th>4</th>\n",
       "      <td>387487</td>\n",
       "      <td>3355364</td>\n",
       "      <td>M</td>\n",
       "      <td>72</td>\n",
       "      <td>NaN</td>\n",
       "      <td>No</td>\n",
       "      <td>H</td>\n",
       "      <td>C</td>\n",
       "      <td>IMSD</td>\n",
       "      <td>IMSD</td>\n",
       "      <td>S2A</td>\n",
       "      <td>S3E</td>\n",
       "      <td>S</td>\n",
       "      <td>F63A</td>\n",
       "      <td>NaN</td>\n",
       "      <td>59</td>\n",
       "      <td>0.00</td>\n",
       "      <td>Multiday</td>\n",
       "      <td>9.7236</td>\n",
       "    </tr>\n",
       "  </tbody>\n",
       "</table>\n",
       "</div>"
      ],
      "text/plain": [
       "   PatientID  IPEpisodeID Gender Code  Age On Admission  Birth Weight  \\\n",
       "0     973538      3320175           M                56           NaN   \n",
       "1    1198129      3327705           F                81           NaN   \n",
       "2     319442      3333120           M                82           NaN   \n",
       "3    1210448      3353681           M                88           NaN   \n",
       "4     387487      3355364           M                72           NaN   \n",
       "\n",
       "  ATSI Flag Admission Source Code Admission Type Code Admission Specialty  \\\n",
       "0        No                     T                   P                HIHC   \n",
       "1        No                     S                   S                 GBS   \n",
       "2        No                     H                   C                  45   \n",
       "3        No                     H                   C                CRGS   \n",
       "4        No                     H                   C                IMSD   \n",
       "\n",
       "  Discharge Specialty Admission Ward Code Discharge Ward Code  \\\n",
       "0                HIHC                 F2B               FHITH   \n",
       "1                 GBS               SHITH               SHITH   \n",
       "2                  26                 F2C               FHITH   \n",
       "3                UGIG                 F2E                 F3E   \n",
       "4                IMSD                 S2A                 S3E   \n",
       "\n",
       "  Separation Method Code DRG Code  ICU LOS Hours  Total LOS Days  HITH Days  \\\n",
       "0                      H     K01C            NaN              34      67.94   \n",
       "1                      H     G70A            NaN              10      55.36   \n",
       "2                      H     K01C            NaN              18     102.62   \n",
       "3                      H     G02A         146.62              41       0.00   \n",
       "4                      S     F63A            NaN              59       0.00   \n",
       "\n",
       "   LOS Type  WIES Value  \n",
       "0  Multiday      8.3579  \n",
       "1  Multiday      4.0218  \n",
       "2  Multiday      6.7687  \n",
       "3  Multiday      9.5665  \n",
       "4  Multiday      9.7236  "
      ]
     },
     "execution_count": 2,
     "metadata": {},
     "output_type": "execute_result"
    }
   ],
   "source": [
    "# Importing the data\n",
    "episode = pd.read_csv('TheRelevant.csv', header = 0, sep=',', names = ['PatientID','IPEpisodeID','Gender Code',\n",
    "                                                                     'Age On Admission','Birth Weight','ATSI Flag',\n",
    "                                                                     'Admission Source Code','Admission Type Code',\n",
    "                                                                     'Admission Specialty','Discharge Specialty',\n",
    "                                                                     'Admission Ward Code','Discharge Ward Code',\n",
    "                                                                     'Separation Method Code','DRG Code',\n",
    "                                                                     'ICU LOS Hours','Total LOS Days','HITH Days',\n",
    "                                                                     'LOS Type','WIES Value'])\n",
    "\n",
    "episode.head()"
   ]
  },
  {
   "cell_type": "markdown",
   "metadata": {},
   "source": [
    "### Checking for Missing Values\n",
    "\n",
    "Let's make sure we do not have any missing values"
   ]
  },
  {
   "cell_type": "code",
   "execution_count": 3,
   "metadata": {},
   "outputs": [
    {
     "data": {
      "text/plain": [
       "PatientID                      0\n",
       "IPEpisodeID                    0\n",
       "Gender Code                    0\n",
       "Age On Admission               0\n",
       "Birth Weight              245182\n",
       "ATSI Flag                      0\n",
       "Admission Source Code          0\n",
       "Admission Type Code            0\n",
       "Admission Specialty            0\n",
       "Discharge Specialty            0\n",
       "Admission Ward Code            0\n",
       "Discharge Ward Code            0\n",
       "Separation Method Code         0\n",
       "DRG Code                       0\n",
       "ICU LOS Hours             245170\n",
       "Total LOS Days                 0\n",
       "HITH Days                      0\n",
       "LOS Type                       0\n",
       "WIES Value                     0\n",
       "dtype: int64"
      ]
     },
     "execution_count": 3,
     "metadata": {},
     "output_type": "execute_result"
    }
   ],
   "source": [
    "episode.isna().sum()"
   ]
  },
  {
   "cell_type": "code",
   "execution_count": 4,
   "metadata": {},
   "outputs": [],
   "source": [
    "# Removing the columns with missing values\n",
    "# Splitting the data in target and given variables\n",
    "dataAll = episode.drop(columns=['IPEpisodeID','PatientID','DRG Code','WIES Value','Birth Weight','ICU LOS Hours'])\n",
    "targetAll = episode['WIES Value']"
   ]
  },
  {
   "cell_type": "code",
   "execution_count": 5,
   "metadata": {},
   "outputs": [
    {
     "data": {
      "text/plain": [
       "Gender Code               0\n",
       "Age On Admission          0\n",
       "ATSI Flag                 0\n",
       "Admission Source Code     0\n",
       "Admission Type Code       0\n",
       "Admission Specialty       0\n",
       "Discharge Specialty       0\n",
       "Admission Ward Code       0\n",
       "Discharge Ward Code       0\n",
       "Separation Method Code    0\n",
       "Total LOS Days            0\n",
       "HITH Days                 0\n",
       "LOS Type                  0\n",
       "dtype: int64"
      ]
     },
     "execution_count": 5,
     "metadata": {},
     "output_type": "execute_result"
    }
   ],
   "source": [
    "dataAll.isna().sum()"
   ]
  },
  {
   "cell_type": "markdown",
   "metadata": {},
   "source": [
    "### Encoding Categorical Features\n",
    "\n",
    "Prior to modeling, it is essential to encode all categorical features (both the target feature and the descriptive features) into a set of numerical features."
   ]
  },
  {
   "cell_type": "code",
   "execution_count": 6,
   "metadata": {},
   "outputs": [],
   "source": [
    "# One hot encoding for categorical variables\n",
    "categorical_cols = dataAll.columns[dataAll.dtypes==object].tolist()\n",
    "\n",
    "for col in categorical_cols:\n",
    "    n = len(dataAll[col].unique())\n",
    "    if (n == 2):\n",
    "        dataAll[col] = pd.get_dummies(dataAll[col], drop_first=True)\n",
    "        \n",
    "dataAll = pd.get_dummies(dataAll)"
   ]
  },
  {
   "cell_type": "markdown",
   "metadata": {},
   "source": [
    "### Scaling of Features\n",
    "\n",
    "After encoding all the categorical features, we perform a min-max scaling of the descriptive features."
   ]
  },
  {
   "cell_type": "code",
   "execution_count": 7,
   "metadata": {},
   "outputs": [
    {
     "name": "stderr",
     "output_type": "stream",
     "text": [
      "C:\\ProgramData\\Anaconda3\\lib\\site-packages\\sklearn\\preprocessing\\data.py:334: DataConversionWarning: Data with input dtype uint8, int64, float64 were all converted to float64 by MinMaxScaler.\n",
      "  return self.partial_fit(X, y)\n",
      "C:\\ProgramData\\Anaconda3\\lib\\site-packages\\sklearn\\preprocessing\\data.py:334: DataConversionWarning: Data with input dtype uint8, int64, float64 were all converted to float64 by MinMaxScaler.\n",
      "  return self.partial_fit(X, y)\n"
     ]
    }
   ],
   "source": [
    "# Retaining a copy of the original data\n",
    "Data_dfAll = dataAll.copy()\n",
    "\n",
    "# Apply Min-max scaling\n",
    "Data_scaler = preprocessing.MinMaxScaler()\n",
    "\n",
    "Data_scaler.fit(dataAll)\n",
    "dataAll = Data_scaler.fit_transform(dataAll)"
   ]
  },
  {
   "cell_type": "markdown",
   "metadata": {},
   "source": [
    "## Feature Selection & Ranking\n",
    "\n",
    "Let's have a look at the most important 10 features as selected by Random Forest Importance (RFI) in the full dataset. \n",
    "This is for a quick ranking of the most relevant 10 features to gain some insight into the problem at hand."
   ]
  },
  {
   "cell_type": "code",
   "execution_count": 8,
   "metadata": {},
   "outputs": [
    {
     "name": "stdout",
     "output_type": "stream",
     "text": [
      "['LOS Type_Multiday' 'Total LOS Days' 'LOS Type_Same day'\n",
      " 'Age On Admission' 'Discharge Specialty_44' 'Admission Ward Code_FDPU'\n",
      " 'Admission Type Code_P' 'Admission Specialty_7' 'Discharge Specialty_DUA'\n",
      " 'Discharge Specialty_CRGS']\n"
     ]
    },
    {
     "data": {
      "text/plain": [
       "array([0.4857134 , 0.26005406, 0.04700439, 0.02268351, 0.01879055,\n",
       "       0.01196935, 0.008558  , 0.00791199, 0.00730819, 0.00568784])"
      ]
     },
     "execution_count": 8,
     "metadata": {},
     "output_type": "execute_result"
    }
   ],
   "source": [
    "# Feature selection and ranking\n",
    "num_features = 10\n",
    "model_rfiAll = RandomForestRegressor(n_estimators=80, max_depth=15)\n",
    "model_rfiAll.fit(dataAll, targetAll)\n",
    "fs_indices_rfiAll = np.argsort(model_rfiAll.feature_importances_)[::-1][0:num_features]\n",
    "\n",
    "best_features_rfiAll = Data_dfAll.columns[fs_indices_rfiAll].values\n",
    "print(best_features_rfiAll)\n",
    "\n",
    "feature_importances_rfiAll = model_rfiAll.feature_importances_[fs_indices_rfiAll]\n",
    "feature_importances_rfiAll"
   ]
  },
  {
   "cell_type": "code",
   "execution_count": 9,
   "metadata": {},
   "outputs": [],
   "source": [
    "def plot_imp(best_features, scores, method_name, color):\n",
    "    \n",
    "    df = pd.DataFrame({'features': best_features, \n",
    "                       'importances': scores})\n",
    "    \n",
    "    chart = alt.Chart(df, \n",
    "                      width=500, \n",
    "                      title=method_name + ' Feature Importances'\n",
    "                     ).mark_bar(opacity=0.85, \n",
    "                                color=color).encode(\n",
    "        alt.X('features', title='Feature', sort=None, axis=alt.AxisConfig(labelAngle=45)),\n",
    "        alt.Y('importances', title='Importance')\n",
    "    )\n",
    "    \n",
    "    return chart"
   ]
  },
  {
   "cell_type": "code",
   "execution_count": 10,
   "metadata": {},
   "outputs": [
    {
     "data": {
      "application/javascript": [
       "var spec = {\"config\": {\"view\": {\"width\": 400, \"height\": 300}, \"mark\": {\"tooltip\": null}}, \"data\": {\"name\": \"data-4b81edeb7eb05f7e296f3c6c308ac9d5\"}, \"mark\": {\"type\": \"bar\", \"color\": \"blue\", \"opacity\": 0.85}, \"encoding\": {\"x\": {\"type\": \"nominal\", \"axis\": {\"labelAngle\": 45}, \"field\": \"features\", \"sort\": null, \"title\": \"Feature\"}, \"y\": {\"type\": \"quantitative\", \"field\": \"importances\", \"title\": \"Importance\"}}, \"title\": \"Random Forest Feature Importances\", \"width\": 500, \"$schema\": \"https://vega.github.io/schema/vega-lite/v3.2.1.json\", \"datasets\": {\"data-4b81edeb7eb05f7e296f3c6c308ac9d5\": [{\"features\": \"LOS Type_Multiday\", \"importances\": 0.485713400965088}, {\"features\": \"Total LOS Days\", \"importances\": 0.2600540634396468}, {\"features\": \"LOS Type_Same day\", \"importances\": 0.04700439153264464}, {\"features\": \"Age On Admission\", \"importances\": 0.02268350549214234}, {\"features\": \"Discharge Specialty_44\", \"importances\": 0.018790545985822155}, {\"features\": \"Admission Ward Code_FDPU\", \"importances\": 0.011969347371883605}, {\"features\": \"Admission Type Code_P\", \"importances\": 0.008557995560166707}, {\"features\": \"Admission Specialty_7\", \"importances\": 0.007911994466416038}, {\"features\": \"Discharge Specialty_DUA\", \"importances\": 0.007308188223409148}, {\"features\": \"Discharge Specialty_CRGS\", \"importances\": 0.005687843023871047}]}};\n",
       "var opt = {};\n",
       "var type = \"vega-lite\";\n",
       "var id = \"52e4f62a-8178-4e66-96f0-8be2c013e519\";\n",
       "\n",
       "var output_area = this;\n",
       "\n",
       "require([\"nbextensions/jupyter-vega/index\"], function(vega) {\n",
       "  var target = document.createElement(\"div\");\n",
       "  target.id = id;\n",
       "  target.className = \"vega-embed\";\n",
       "\n",
       "  var style = document.createElement(\"style\");\n",
       "  style.textContent = [\n",
       "    \".vega-embed .error p {\",\n",
       "    \"  color: firebrick;\",\n",
       "    \"  font-size: 14px;\",\n",
       "    \"}\",\n",
       "  ].join(\"\\\\n\");\n",
       "\n",
       "  // element is a jQuery wrapped DOM element inside the output area\n",
       "  // see http://ipython.readthedocs.io/en/stable/api/generated/\\\n",
       "  // IPython.display.html#IPython.display.Javascript.__init__\n",
       "  element[0].appendChild(target);\n",
       "  element[0].appendChild(style);\n",
       "\n",
       "  vega.render(\"#\" + id, spec, type, opt, output_area);\n",
       "}, function (err) {\n",
       "  if (err.requireType !== \"scripterror\") {\n",
       "    throw(err);\n",
       "  }\n",
       "});\n"
      ],
      "text/plain": [
       "<vega.vegalite.VegaLite at 0x2b3777cdc88>"
      ]
     },
     "metadata": {
      "jupyter-vega": "#52e4f62a-8178-4e66-96f0-8be2c013e519"
     },
     "output_type": "display_data"
    },
    {
     "data": {
      "text/plain": []
     },
     "execution_count": 10,
     "metadata": {},
     "output_type": "execute_result"
    },
    {
     "data": {
      "image/png": "[encoded data removed]"
     },
     "metadata": {
      "jupyter-vega": "#52e4f62a-8178-4e66-96f0-8be2c013e519"
     },
     "output_type": "display_data"
    }
   ],
   "source": [
    "plot_imp(best_features_rfiAll, feature_importances_rfiAll, 'Random Forest', 'blue')"
   ]
  },
  {
   "cell_type": "markdown",
   "metadata": {},
   "source": [
    "### Data Sampling & Train-Test Splitting\n",
    "\n",
    "The original dataset has around 250K rows, which is a lot. So, we would like to work with a small sample here with 20K rows. Thus, we will do the following:\n",
    "\n",
    "- Randomly select 20K rows from the full dataset.\n",
    "- Split this sample into train and test partitions with a 70:30 ratio using stratification."
   ]
  },
  {
   "cell_type": "code",
   "execution_count": 11,
   "metadata": {},
   "outputs": [
    {
     "name": "stdout",
     "output_type": "stream",
     "text": [
      "(20000, 311)\n",
      "(20000, 1)\n"
     ]
    }
   ],
   "source": [
    "# Data sampling\n",
    "n_samples = 20000\n",
    "\n",
    "dataAll_sample = pd.DataFrame(dataAll).sample(n=n_samples, random_state=8).values\n",
    "targetAll_sample = pd.DataFrame(targetAll).sample(n=n_samples, random_state=8).values\n",
    "\n",
    "print(dataAll_sample.shape)\n",
    "print(targetAll_sample.shape)"
   ]
  },
  {
   "cell_type": "code",
   "execution_count": 12,
   "metadata": {},
   "outputs": [
    {
     "name": "stdout",
     "output_type": "stream",
     "text": [
      "(14000, 311)\n",
      "(6000, 311)\n"
     ]
    }
   ],
   "source": [
    "# Train-test splitting\n",
    "from sklearn.model_selection import train_test_split\n",
    "\n",
    "dataAll_sample_train, dataAll_sample_test, \\\n",
    "targetAll_sample_train, targetAll_sample_test = train_test_split(dataAll_sample, targetAll_sample, \n",
    "                                                    test_size = 0.3, random_state=999)\n",
    "\n",
    "print(dataAll_sample_train.shape)\n",
    "print(dataAll_sample_test.shape)"
   ]
  },
  {
   "cell_type": "markdown",
   "metadata": {},
   "source": [
    "## Modelling"
   ]
  },
  {
   "cell_type": "code",
   "execution_count": 13,
   "metadata": {},
   "outputs": [],
   "source": [
    "# 5-fold stratified cross-validation evaluation method for hyperparameter tuning.\n",
    "\n",
    "from sklearn.model_selection import KFold, GridSearchCV\n",
    "cv_method = KFold(n_splits=5, random_state=999)"
   ]
  },
  {
   "cell_type": "markdown",
   "metadata": {},
   "source": [
    "### Random Forest"
   ]
  },
  {
   "cell_type": "code",
   "execution_count": 14,
   "metadata": {},
   "outputs": [],
   "source": [
    "from sklearn.base import BaseEstimator, TransformerMixin\n",
    "\n",
    "# custom function for RFI feature selection inside a pipeline\n",
    "# here we use n_estimators=100\n",
    "class RFIFeatureSelector(BaseEstimator, TransformerMixin):\n",
    "    \n",
    "    # class constructor \n",
    "    # make sure class attributes end with a \"_\"\n",
    "    # per scikit-learn convention to avoid errors\n",
    "    def __init__(self, n_features_=10):\n",
    "        self.n_features_ = n_features_\n",
    "        self.fs_indices_ = None\n",
    "\n",
    "    # override the fit function\n",
    "    def fit(self, X, y):\n",
    "        from sklearn.ensemble import RandomForestRegressor\n",
    "        from numpy import argsort\n",
    "        model_rfi = RandomForestRegressor(n_estimators=80, max_depth=15)\n",
    "        model_rfi.fit(X, y)\n",
    "        self.fs_indices_ = argsort(model_rfi.feature_importances_)[::-1][0:self.n_features_] \n",
    "        return self \n",
    "    \n",
    "    # override the transform function\n",
    "    def transform(self, X, y=None):\n",
    "        return X[:, self.fs_indices_]"
   ]
  },
  {
   "cell_type": "code",
   "execution_count": 15,
   "metadata": {},
   "outputs": [
    {
     "name": "stdout",
     "output_type": "stream",
     "text": [
      "Fitting 5 folds for each of 12 candidates, totalling 60 fits\n"
     ]
    },
    {
     "name": "stderr",
     "output_type": "stream",
     "text": [
      "[Parallel(n_jobs=-2)]: Using backend LokyBackend with 3 concurrent workers.\n",
      "[Parallel(n_jobs=-2)]: Done  35 tasks      | elapsed:  5.3min\n",
      "[Parallel(n_jobs=-2)]: Done  60 out of  60 | elapsed:  9.0min finished\n",
      "C:\\ProgramData\\Anaconda3\\lib\\site-packages\\ipykernel_launcher.py:19: DataConversionWarning: A column-vector y was passed when a 1d array was expected. Please change the shape of y to (n_samples,), for example using ravel().\n",
      "C:\\ProgramData\\Anaconda3\\lib\\site-packages\\sklearn\\ensemble\\forest.py:246: FutureWarning: The default value of n_estimators will change from 10 in version 0.20 to 100 in 0.22.\n",
      "  \"10 in version 0.20 to 100 in 0.22.\", FutureWarning)\n",
      "C:\\ProgramData\\Anaconda3\\lib\\site-packages\\sklearn\\pipeline.py:267: DataConversionWarning: A column-vector y was passed when a 1d array was expected. Please change the shape of y to (n_samples,), for example using ravel().\n",
      "  self._final_estimator.fit(Xt, y, **fit_params)\n"
     ]
    }
   ],
   "source": [
    "pipe_DT = Pipeline([('rfi_fs', RFIFeatureSelector()),\n",
    "                    ('dt', RandomForestRegressor())])\n",
    "\n",
    "\n",
    "params_pipe_DT = {'rfi_fs__n_features_': [290, dataAll.shape[1]],\n",
    "                  'dt__max_depth': [18, 21, 24],\n",
    "                  'dt__min_samples_split': [25, 28]}\n",
    "\n",
    "gs_pipe_DT = GridSearchCV(estimator=pipe_DT, \n",
    "                          param_grid=params_pipe_DT, \n",
    "                          cv=cv_method,\n",
    "                          refit=True,\n",
    "                          n_jobs=-2,\n",
    "                          verbose=2) \n",
    "\n",
    "gs_pipe_DT.fit(dataAll_sample_train, targetAll_sample_train);"
   ]
  },
  {
   "cell_type": "code",
   "execution_count": 16,
   "metadata": {},
   "outputs": [
    {
     "data": {
      "text/plain": [
       "{'dt__max_depth': 24, 'dt__min_samples_split': 28, 'rfi_fs__n_features_': 311}"
      ]
     },
     "execution_count": 16,
     "metadata": {},
     "output_type": "execute_result"
    }
   ],
   "source": [
    "gs_pipe_DT.best_params_"
   ]
  },
  {
   "cell_type": "code",
   "execution_count": 17,
   "metadata": {},
   "outputs": [
    {
     "data": {
      "text/plain": [
       "0.7584608557592775"
      ]
     },
     "execution_count": 17,
     "metadata": {},
     "output_type": "execute_result"
    }
   ],
   "source": [
    "gs_pipe_DT.best_score_"
   ]
  },
  {
   "cell_type": "code",
   "execution_count": 18,
   "metadata": {},
   "outputs": [
    {
     "name": "stdout",
     "output_type": "stream",
     "text": [
      "Random Forest training mse =  0.08295858268248801  & mae =  0.1297765913440197  & rmse =  0.28802531604442\n"
     ]
    }
   ],
   "source": [
    "tree_mse = mean_squared_error(targetAll_sample_train, gs_pipe_DT.predict(dataAll_sample_train))\n",
    "tree_mae = mean_absolute_error(targetAll_sample_train, gs_pipe_DT.predict(dataAll_sample_train))\n",
    "print(\"Random Forest training mse = \",tree_mse,\" & mae = \",tree_mae,\" & rmse = \", sqrt(tree_mse))"
   ]
  },
  {
   "cell_type": "code",
   "execution_count": 19,
   "metadata": {},
   "outputs": [],
   "source": [
    "# custom function to format the search results as a Pandas data frame\n",
    "def get_search_results(gs):\n",
    "\n",
    "    def model_result(scores, params):\n",
    "        scores = {'mean_score': np.mean(scores),\n",
    "             'std_score': np.std(scores),\n",
    "             'min_score': np.min(scores),\n",
    "             'max_score': np.max(scores)}\n",
    "        return pd.Series({**params,**scores})\n",
    "\n",
    "    models = []\n",
    "    scores = []\n",
    "\n",
    "    for i in range(gs.n_splits_):\n",
    "        key = f\"split{i}_test_score\"\n",
    "        r = gs.cv_results_[key]        \n",
    "        scores.append(r.reshape(-1,1))\n",
    "\n",
    "    all_scores = np.hstack(scores)\n",
    "    for p, s in zip(gs.cv_results_['params'], all_scores):\n",
    "        models.append((model_result(s, p)))\n",
    "\n",
    "    pipe_results = pd.concat(models, axis=1).T.sort_values(['mean_score'], ascending=False)\n",
    "\n",
    "    columns_first = ['mean_score', 'std_score', 'max_score', 'min_score']\n",
    "    columns = columns_first + [c for c in pipe_results.columns if c not in columns_first]\n",
    "\n",
    "    return pipe_results[columns]"
   ]
  },
  {
   "cell_type": "code",
   "execution_count": 20,
   "metadata": {},
   "outputs": [
    {
     "data": {
      "text/html": [
       "<div>\n",
       "<style scoped>\n",
       "    .dataframe tbody tr th:only-of-type {\n",
       "        vertical-align: middle;\n",
       "    }\n",
       "\n",
       "    .dataframe tbody tr th {\n",
       "        vertical-align: top;\n",
       "    }\n",
       "\n",
       "    .dataframe thead th {\n",
       "        text-align: right;\n",
       "    }\n",
       "</style>\n",
       "<table border=\"1\" class=\"dataframe\">\n",
       "  <thead>\n",
       "    <tr style=\"text-align: right;\">\n",
       "      <th></th>\n",
       "      <th>mean_score</th>\n",
       "      <th>std_score</th>\n",
       "      <th>max_score</th>\n",
       "      <th>min_score</th>\n",
       "      <th>dt__max_depth</th>\n",
       "      <th>dt__min_samples_split</th>\n",
       "      <th>rfi_fs__n_features_</th>\n",
       "    </tr>\n",
       "  </thead>\n",
       "  <tbody>\n",
       "    <tr>\n",
       "      <th>11</th>\n",
       "      <td>0.758461</td>\n",
       "      <td>0.028215</td>\n",
       "      <td>0.789492</td>\n",
       "      <td>0.711048</td>\n",
       "      <td>24.0</td>\n",
       "      <td>28.0</td>\n",
       "      <td>311.0</td>\n",
       "    </tr>\n",
       "    <tr>\n",
       "      <th>4</th>\n",
       "      <td>0.757032</td>\n",
       "      <td>0.027921</td>\n",
       "      <td>0.786647</td>\n",
       "      <td>0.707398</td>\n",
       "      <td>21.0</td>\n",
       "      <td>25.0</td>\n",
       "      <td>290.0</td>\n",
       "    </tr>\n",
       "    <tr>\n",
       "      <th>1</th>\n",
       "      <td>0.753772</td>\n",
       "      <td>0.027239</td>\n",
       "      <td>0.782336</td>\n",
       "      <td>0.703774</td>\n",
       "      <td>18.0</td>\n",
       "      <td>25.0</td>\n",
       "      <td>311.0</td>\n",
       "    </tr>\n",
       "    <tr>\n",
       "      <th>5</th>\n",
       "      <td>0.753767</td>\n",
       "      <td>0.032018</td>\n",
       "      <td>0.788062</td>\n",
       "      <td>0.698949</td>\n",
       "      <td>21.0</td>\n",
       "      <td>25.0</td>\n",
       "      <td>311.0</td>\n",
       "    </tr>\n",
       "    <tr>\n",
       "      <th>7</th>\n",
       "      <td>0.753630</td>\n",
       "      <td>0.024333</td>\n",
       "      <td>0.782838</td>\n",
       "      <td>0.712945</td>\n",
       "      <td>21.0</td>\n",
       "      <td>28.0</td>\n",
       "      <td>311.0</td>\n",
       "    </tr>\n",
       "  </tbody>\n",
       "</table>\n",
       "</div>"
      ],
      "text/plain": [
       "    mean_score  std_score  max_score  min_score  dt__max_depth  \\\n",
       "11    0.758461   0.028215   0.789492   0.711048           24.0   \n",
       "4     0.757032   0.027921   0.786647   0.707398           21.0   \n",
       "1     0.753772   0.027239   0.782336   0.703774           18.0   \n",
       "5     0.753767   0.032018   0.788062   0.698949           21.0   \n",
       "7     0.753630   0.024333   0.782838   0.712945           21.0   \n",
       "\n",
       "    dt__min_samples_split  rfi_fs__n_features_  \n",
       "11                   28.0                311.0  \n",
       "4                    25.0                290.0  \n",
       "1                    25.0                311.0  \n",
       "5                    25.0                311.0  \n",
       "7                    28.0                311.0  "
      ]
     },
     "execution_count": 20,
     "metadata": {},
     "output_type": "execute_result"
    }
   ],
   "source": [
    "results_DT = get_search_results(gs_pipe_DT)\n",
    "results_DT.head()"
   ]
  },
  {
   "cell_type": "code",
   "execution_count": 21,
   "metadata": {},
   "outputs": [
    {
     "data": {
      "application/javascript": [
       "var spec = {\"config\": {\"view\": {\"width\": 400, \"height\": 300}, \"mark\": {\"tooltip\": null}}, \"data\": {\"name\": \"data-bc9a92a04e86bcf78478b1eacec19cc8\"}, \"mark\": {\"type\": \"line\", \"point\": true}, \"encoding\": {\"color\": {\"type\": \"nominal\", \"field\": \"dt__max_depth\", \"title\": \"Max Depth\"}, \"x\": {\"type\": \"quantitative\", \"field\": \"dt__min_samples_split\", \"title\": \"Min Samples for Split\"}, \"y\": {\"type\": \"quantitative\", \"field\": \"mean_score\", \"scale\": {\"zero\": false}, \"title\": \"AUC Score\"}}, \"title\": \"DT Performance Comparison\", \"$schema\": \"https://vega.github.io/schema/vega-lite/v3.2.1.json\", \"datasets\": {\"data-bc9a92a04e86bcf78478b1eacec19cc8\": [{\"mean_score\": 0.7570316290249375, \"std_score\": 0.027920722790980873, \"max_score\": 0.7866470160368428, \"min_score\": 0.7073982430610091, \"dt__max_depth\": 21.0, \"dt__min_samples_split\": 25.0, \"rfi_fs__n_features_\": 290.0}, {\"mean_score\": 0.7532629898977088, \"std_score\": 0.028706616958362293, \"max_score\": 0.7830625940393888, \"min_score\": 0.7040566917045468, \"dt__max_depth\": 18.0, \"dt__min_samples_split\": 25.0, \"rfi_fs__n_features_\": 290.0}, {\"mean_score\": 0.7517744410663666, \"std_score\": 0.026883018330893817, \"max_score\": 0.7813649525980836, \"min_score\": 0.70316524844891, \"dt__max_depth\": 24.0, \"dt__min_samples_split\": 28.0, \"rfi_fs__n_features_\": 290.0}, {\"mean_score\": 0.7512144459674859, \"std_score\": 0.026455639426708578, \"max_score\": 0.7828657346286071, \"min_score\": 0.708110960829208, \"dt__max_depth\": 24.0, \"dt__min_samples_split\": 25.0, \"rfi_fs__n_features_\": 290.0}, {\"mean_score\": 0.7501928878739197, \"std_score\": 0.025501492362855555, \"max_score\": 0.7788503531870101, \"min_score\": 0.7094349174658694, \"dt__max_depth\": 21.0, \"dt__min_samples_split\": 28.0, \"rfi_fs__n_features_\": 290.0}, {\"mean_score\": 0.7489832941523958, \"std_score\": 0.030230730124354503, \"max_score\": 0.7830378393861203, \"min_score\": 0.6931906980265377, \"dt__max_depth\": 18.0, \"dt__min_samples_split\": 28.0, \"rfi_fs__n_features_\": 290.0}]}};\n",
       "var opt = {};\n",
       "var type = \"vega-lite\";\n",
       "var id = \"69a75dc2-bed4-4d39-afbe-eece31538ad0\";\n",
       "\n",
       "var output_area = this;\n",
       "\n",
       "require([\"nbextensions/jupyter-vega/index\"], function(vega) {\n",
       "  var target = document.createElement(\"div\");\n",
       "  target.id = id;\n",
       "  target.className = \"vega-embed\";\n",
       "\n",
       "  var style = document.createElement(\"style\");\n",
       "  style.textContent = [\n",
       "    \".vega-embed .error p {\",\n",
       "    \"  color: firebrick;\",\n",
       "    \"  font-size: 14px;\",\n",
       "    \"}\",\n",
       "  ].join(\"\\\\n\");\n",
       "\n",
       "  // element is a jQuery wrapped DOM element inside the output area\n",
       "  // see http://ipython.readthedocs.io/en/stable/api/generated/\\\n",
       "  // IPython.display.html#IPython.display.Javascript.__init__\n",
       "  element[0].appendChild(target);\n",
       "  element[0].appendChild(style);\n",
       "\n",
       "  vega.render(\"#\" + id, spec, type, opt, output_area);\n",
       "}, function (err) {\n",
       "  if (err.requireType !== \"scripterror\") {\n",
       "    throw(err);\n",
       "  }\n",
       "});\n"
      ],
      "text/plain": [
       "<vega.vegalite.VegaLite at 0x2b301bc82e8>"
      ]
     },
     "metadata": {
      "jupyter-vega": "#69a75dc2-bed4-4d39-afbe-eece31538ad0"
     },
     "output_type": "display_data"
    },
    {
     "data": {
      "text/plain": []
     },
     "execution_count": 21,
     "metadata": {},
     "output_type": "execute_result"
    },
    {
     "data": {
      "image/png": "[encoded data removed]"
     },
     "metadata": {
      "jupyter-vega": "#69a75dc2-bed4-4d39-afbe-eece31538ad0"
     },
     "output_type": "display_data"
    }
   ],
   "source": [
    "results_DT_10_features = results_DT[results_DT['rfi_fs__n_features_'] == 290.0]\n",
    "\n",
    "alt.Chart(results_DT_10_features, \n",
    "          title='DT Performance Comparison'\n",
    "         ).mark_line(point=True).encode(\n",
    "    alt.X('dt__min_samples_split', title='Min Samples for Split'),\n",
    "    alt.Y('mean_score', title='AUC Score', scale=alt.Scale(zero=False)),\n",
    "    alt.Color('dt__max_depth:N', title='Max Depth')\n",
    ")\n"
   ]
  },
  {
   "cell_type": "markdown",
   "metadata": {},
   "source": [
    "### Bayesian Regression"
   ]
  },
  {
   "cell_type": "code",
   "execution_count": 22,
   "metadata": {},
   "outputs": [
    {
     "name": "stdout",
     "output_type": "stream",
     "text": [
      "Fitting 5 folds for each of 8 candidates, totalling 40 fits\n"
     ]
    },
    {
     "name": "stderr",
     "output_type": "stream",
     "text": [
      "[Parallel(n_jobs=-2)]: Using backend LokyBackend with 3 concurrent workers.\n",
      "[Parallel(n_jobs=-2)]: Done  35 tasks      | elapsed:  4.8min\n",
      "[Parallel(n_jobs=-2)]: Done  40 out of  40 | elapsed:  5.4min finished\n",
      "C:\\ProgramData\\Anaconda3\\lib\\site-packages\\ipykernel_launcher.py:19: DataConversionWarning: A column-vector y was passed when a 1d array was expected. Please change the shape of y to (n_samples,), for example using ravel().\n"
     ]
    },
    {
     "data": {
      "text/plain": [
       "GridSearchCV(cv=KFold(n_splits=5, random_state=999, shuffle=False),\n",
       "       error_score='raise-deprecating',\n",
       "       estimator=Pipeline(memory=None,\n",
       "     steps=[('rfi_fs', RFIFeatureSelector(n_features_=10)), ('lr', Ridge(alpha=1.0, copy_X=True, fit_intercept=True, max_iter=None,\n",
       "   normalize=False, random_state=None, solver='auto', tol=0.001))]),\n",
       "       fit_params=None, iid='warn', n_jobs=-2,\n",
       "       param_grid={'rfi_fs__n_features_': [70, 100, 130, 170, 210, 250, 290, 311]},\n",
       "       pre_dispatch='2*n_jobs', refit=True, return_train_score='warn',\n",
       "       scoring=None, verbose=2)"
      ]
     },
     "execution_count": 22,
     "metadata": {},
     "output_type": "execute_result"
    }
   ],
   "source": [
    "from sklearn.linear_model import LinearRegression, BayesianRidge, SGDRegressor, Ridge\n",
    "\n",
    "pipe_BR = Pipeline([('rfi_fs', RFIFeatureSelector()),\n",
    "                    ('lr', Ridge())])\n",
    "\n",
    "\n",
    "params_pipe_BR = {'rfi_fs__n_features_': [70, 100, 130, 170, 210, 250, 290, dataAll.shape[1]],\n",
    "                  }\n",
    "\n",
    "gs_pipe_BR = GridSearchCV(estimator=pipe_BR, \n",
    "                          param_grid=params_pipe_BR, \n",
    "                          cv=cv_method,\n",
    "                          refit=True,\n",
    "                          n_jobs=-2,\n",
    "                          verbose=2) \n",
    "\n",
    "gs_pipe_BR.fit(dataAll_sample_train, targetAll_sample_train)"
   ]
  },
  {
   "cell_type": "code",
   "execution_count": 23,
   "metadata": {},
   "outputs": [
    {
     "data": {
      "text/plain": [
       "{'rfi_fs__n_features_': 290}"
      ]
     },
     "execution_count": 23,
     "metadata": {},
     "output_type": "execute_result"
    }
   ],
   "source": [
    "gs_pipe_BR.best_params_"
   ]
  },
  {
   "cell_type": "code",
   "execution_count": 24,
   "metadata": {},
   "outputs": [
    {
     "data": {
      "text/plain": [
       "0.7391234467094221"
      ]
     },
     "execution_count": 24,
     "metadata": {},
     "output_type": "execute_result"
    }
   ],
   "source": [
    "gs_pipe_BR.best_score_"
   ]
  },
  {
   "cell_type": "code",
   "execution_count": 25,
   "metadata": {},
   "outputs": [
    {
     "name": "stdout",
     "output_type": "stream",
     "text": [
      "Reg training mse =  0.12698709620622042  & mae =  0.1757138940682829  & rmse =  0.3563524887049625\n"
     ]
    }
   ],
   "source": [
    "tree_mse = mean_squared_error(targetAll_sample_train, gs_pipe_BR.predict(dataAll_sample_train))\n",
    "tree_mae = mean_absolute_error(targetAll_sample_train, gs_pipe_BR.predict(dataAll_sample_train))\n",
    "print(\"Reg training mse = \",tree_mse,\" & mae = \",tree_mae,\" & rmse = \", sqrt(tree_mse))"
   ]
  },
  {
   "cell_type": "code",
   "execution_count": 26,
   "metadata": {},
   "outputs": [
    {
     "data": {
      "text/html": [
       "<div>\n",
       "<style scoped>\n",
       "    .dataframe tbody tr th:only-of-type {\n",
       "        vertical-align: middle;\n",
       "    }\n",
       "\n",
       "    .dataframe tbody tr th {\n",
       "        vertical-align: top;\n",
       "    }\n",
       "\n",
       "    .dataframe thead th {\n",
       "        text-align: right;\n",
       "    }\n",
       "</style>\n",
       "<table border=\"1\" class=\"dataframe\">\n",
       "  <thead>\n",
       "    <tr style=\"text-align: right;\">\n",
       "      <th></th>\n",
       "      <th>mean_score</th>\n",
       "      <th>std_score</th>\n",
       "      <th>max_score</th>\n",
       "      <th>min_score</th>\n",
       "      <th>rfi_fs__n_features_</th>\n",
       "    </tr>\n",
       "  </thead>\n",
       "  <tbody>\n",
       "    <tr>\n",
       "      <th>6</th>\n",
       "      <td>0.739123</td>\n",
       "      <td>0.023571</td>\n",
       "      <td>0.761542</td>\n",
       "      <td>0.693710</td>\n",
       "      <td>290.0</td>\n",
       "    </tr>\n",
       "    <tr>\n",
       "      <th>5</th>\n",
       "      <td>0.739099</td>\n",
       "      <td>0.023532</td>\n",
       "      <td>0.761318</td>\n",
       "      <td>0.693720</td>\n",
       "      <td>250.0</td>\n",
       "    </tr>\n",
       "    <tr>\n",
       "      <th>7</th>\n",
       "      <td>0.739090</td>\n",
       "      <td>0.023537</td>\n",
       "      <td>0.761385</td>\n",
       "      <td>0.693717</td>\n",
       "      <td>311.0</td>\n",
       "    </tr>\n",
       "    <tr>\n",
       "      <th>3</th>\n",
       "      <td>0.738188</td>\n",
       "      <td>0.022224</td>\n",
       "      <td>0.757904</td>\n",
       "      <td>0.694860</td>\n",
       "      <td>170.0</td>\n",
       "    </tr>\n",
       "    <tr>\n",
       "      <th>4</th>\n",
       "      <td>0.737956</td>\n",
       "      <td>0.023498</td>\n",
       "      <td>0.759719</td>\n",
       "      <td>0.692522</td>\n",
       "      <td>210.0</td>\n",
       "    </tr>\n",
       "    <tr>\n",
       "      <th>2</th>\n",
       "      <td>0.734257</td>\n",
       "      <td>0.021203</td>\n",
       "      <td>0.749762</td>\n",
       "      <td>0.692420</td>\n",
       "      <td>130.0</td>\n",
       "    </tr>\n",
       "    <tr>\n",
       "      <th>1</th>\n",
       "      <td>0.732935</td>\n",
       "      <td>0.021626</td>\n",
       "      <td>0.747215</td>\n",
       "      <td>0.690259</td>\n",
       "      <td>100.0</td>\n",
       "    </tr>\n",
       "    <tr>\n",
       "      <th>0</th>\n",
       "      <td>0.727736</td>\n",
       "      <td>0.019097</td>\n",
       "      <td>0.738497</td>\n",
       "      <td>0.689713</td>\n",
       "      <td>70.0</td>\n",
       "    </tr>\n",
       "  </tbody>\n",
       "</table>\n",
       "</div>"
      ],
      "text/plain": [
       "   mean_score  std_score  max_score  min_score  rfi_fs__n_features_\n",
       "6    0.739123   0.023571   0.761542   0.693710                290.0\n",
       "5    0.739099   0.023532   0.761318   0.693720                250.0\n",
       "7    0.739090   0.023537   0.761385   0.693717                311.0\n",
       "3    0.738188   0.022224   0.757904   0.694860                170.0\n",
       "4    0.737956   0.023498   0.759719   0.692522                210.0\n",
       "2    0.734257   0.021203   0.749762   0.692420                130.0\n",
       "1    0.732935   0.021626   0.747215   0.690259                100.0\n",
       "0    0.727736   0.019097   0.738497   0.689713                 70.0"
      ]
     },
     "execution_count": 26,
     "metadata": {},
     "output_type": "execute_result"
    }
   ],
   "source": [
    "results_BR = get_search_results(gs_pipe_BR)\n",
    "results_BR"
   ]
  },
  {
   "cell_type": "code",
   "execution_count": 27,
   "metadata": {},
   "outputs": [
    {
     "data": {
      "application/javascript": [
       "var spec = {\"config\": {\"view\": {\"width\": 400, \"height\": 300}, \"mark\": {\"tooltip\": null}}, \"data\": {\"name\": \"data-d87228f01619e83e76393aa7068870d8\"}, \"mark\": {\"type\": \"line\", \"point\": true}, \"encoding\": {\"x\": {\"type\": \"quantitative\", \"field\": \"rfi_fs__n_features_\", \"title\": \"Features\"}, \"y\": {\"type\": \"quantitative\", \"field\": \"mean_score\", \"scale\": {\"zero\": false}, \"title\": \"AUC Score\"}}, \"title\": \"BR Performance Comparison\", \"$schema\": \"https://vega.github.io/schema/vega-lite/v3.2.1.json\", \"datasets\": {\"data-d87228f01619e83e76393aa7068870d8\": [{\"mean_score\": 0.7391234467094222, \"std_score\": 0.023570550721202545, \"max_score\": 0.7615420919640236, \"min_score\": 0.6937096295549801, \"rfi_fs__n_features_\": 290.0}, {\"mean_score\": 0.7390993966649599, \"std_score\": 0.023531550798450415, \"max_score\": 0.7613184226962161, \"min_score\": 0.6937204646442162, \"rfi_fs__n_features_\": 250.0}, {\"mean_score\": 0.7390896998581022, \"std_score\": 0.023536990339156738, \"max_score\": 0.761384668851389, \"min_score\": 0.6937170187823914, \"rfi_fs__n_features_\": 311.0}, {\"mean_score\": 0.7381880297536223, \"std_score\": 0.02222400198509746, \"max_score\": 0.7579042711678822, \"min_score\": 0.694859989914361, \"rfi_fs__n_features_\": 170.0}, {\"mean_score\": 0.7379561013643646, \"std_score\": 0.0234979739800846, \"max_score\": 0.7597192430711676, \"min_score\": 0.6925215667175877, \"rfi_fs__n_features_\": 210.0}, {\"mean_score\": 0.7342571470055768, \"std_score\": 0.02120313453318639, \"max_score\": 0.7497616584163226, \"min_score\": 0.6924201891127365, \"rfi_fs__n_features_\": 130.0}, {\"mean_score\": 0.7329352402996231, \"std_score\": 0.021626146093801934, \"max_score\": 0.74721533530995, \"min_score\": 0.690259194812819, \"rfi_fs__n_features_\": 100.0}, {\"mean_score\": 0.7277355444628434, \"std_score\": 0.019097275695473, \"max_score\": 0.738497284368127, \"min_score\": 0.6897133413455462, \"rfi_fs__n_features_\": 70.0}]}};\n",
       "var opt = {};\n",
       "var type = \"vega-lite\";\n",
       "var id = \"afcfa5d2-5e30-4dd5-8a22-6b6102917c5b\";\n",
       "\n",
       "var output_area = this;\n",
       "\n",
       "require([\"nbextensions/jupyter-vega/index\"], function(vega) {\n",
       "  var target = document.createElement(\"div\");\n",
       "  target.id = id;\n",
       "  target.className = \"vega-embed\";\n",
       "\n",
       "  var style = document.createElement(\"style\");\n",
       "  style.textContent = [\n",
       "    \".vega-embed .error p {\",\n",
       "    \"  color: firebrick;\",\n",
       "    \"  font-size: 14px;\",\n",
       "    \"}\",\n",
       "  ].join(\"\\\\n\");\n",
       "\n",
       "  // element is a jQuery wrapped DOM element inside the output area\n",
       "  // see http://ipython.readthedocs.io/en/stable/api/generated/\\\n",
       "  // IPython.display.html#IPython.display.Javascript.__init__\n",
       "  element[0].appendChild(target);\n",
       "  element[0].appendChild(style);\n",
       "\n",
       "  vega.render(\"#\" + id, spec, type, opt, output_area);\n",
       "}, function (err) {\n",
       "  if (err.requireType !== \"scripterror\") {\n",
       "    throw(err);\n",
       "  }\n",
       "});\n"
      ],
      "text/plain": [
       "<vega.vegalite.VegaLite at 0x2b301c62b70>"
      ]
     },
     "metadata": {
      "jupyter-vega": "#afcfa5d2-5e30-4dd5-8a22-6b6102917c5b"
     },
     "output_type": "display_data"
    },
    {
     "data": {
      "text/plain": []
     },
     "execution_count": 27,
     "metadata": {},
     "output_type": "execute_result"
    },
    {
     "data": {
      "image/png": "[encoded data removed]"
     },
     "metadata": {
      "jupyter-vega": "#afcfa5d2-5e30-4dd5-8a22-6b6102917c5b"
     },
     "output_type": "display_data"
    }
   ],
   "source": [
    "alt.Chart(results_BR, \n",
    "          title='BR Performance Comparison'\n",
    "         ).mark_line(point=True).encode(\n",
    "    alt.X('rfi_fs__n_features_', title='Features'),\n",
    "    alt.Y('mean_score', title='AUC Score', scale=alt.Scale(zero=False))\n",
    ")"
   ]
  },
  {
   "cell_type": "markdown",
   "metadata": {},
   "source": [
    "### Neural Network"
   ]
  },
  {
   "cell_type": "code",
   "execution_count": 28,
   "metadata": {},
   "outputs": [
    {
     "name": "stdout",
     "output_type": "stream",
     "text": [
      "Fitting 5 folds for each of 9 candidates, totalling 45 fits\n"
     ]
    },
    {
     "name": "stderr",
     "output_type": "stream",
     "text": [
      "[Parallel(n_jobs=-2)]: Using backend LokyBackend with 3 concurrent workers.\n",
      "[Parallel(n_jobs=-2)]: Done  35 tasks      | elapsed:  6.3min\n",
      "[Parallel(n_jobs=-2)]: Done  45 out of  45 | elapsed:  7.8min finished\n",
      "C:\\ProgramData\\Anaconda3\\lib\\site-packages\\ipykernel_launcher.py:19: DataConversionWarning: A column-vector y was passed when a 1d array was expected. Please change the shape of y to (n_samples,), for example using ravel().\n",
      "C:\\ProgramData\\Anaconda3\\lib\\site-packages\\sklearn\\neural_network\\multilayer_perceptron.py:1316: DataConversionWarning: A column-vector y was passed when a 1d array was expected. Please change the shape of y to (n_samples, ), for example using ravel().\n",
      "  y = column_or_1d(y, warn=True)\n"
     ]
    }
   ],
   "source": [
    "from sklearn.neural_network import MLPRegressor\n",
    "\n",
    "pipe_NN = Pipeline([('rfi_fs', RFIFeatureSelector()),\n",
    "                    ('dt', MLPRegressor())])\n",
    "\n",
    "\n",
    "params_pipe_NN = {'rfi_fs__n_features_': [20, 25, 29],\n",
    "                   'dt__hidden_layer_sizes': [75, 90, 100]}\n",
    "                  #  'dt__solver': ['lbfgs', 'sgd', 'adam']}\n",
    "\n",
    "gs_pipe_NN = GridSearchCV(estimator=pipe_NN, \n",
    "                          param_grid=params_pipe_NN, \n",
    "                          cv=cv_method,\n",
    "                          refit=True,\n",
    "                          n_jobs=-2,\n",
    "                          verbose=2) \n",
    "\n",
    "gs_pipe_NN.fit(dataAll_sample_train, targetAll_sample_train);"
   ]
  },
  {
   "cell_type": "code",
   "execution_count": 29,
   "metadata": {},
   "outputs": [
    {
     "data": {
      "text/plain": [
       "{'dt__hidden_layer_sizes': 90, 'rfi_fs__n_features_': 29}"
      ]
     },
     "execution_count": 29,
     "metadata": {},
     "output_type": "execute_result"
    }
   ],
   "source": [
    "gs_pipe_NN.best_params_"
   ]
  },
  {
   "cell_type": "code",
   "execution_count": 30,
   "metadata": {},
   "outputs": [
    {
     "data": {
      "text/plain": [
       "0.72998635949794"
      ]
     },
     "execution_count": 30,
     "metadata": {},
     "output_type": "execute_result"
    }
   ],
   "source": [
    "gs_pipe_NN.best_score_"
   ]
  },
  {
   "cell_type": "code",
   "execution_count": 31,
   "metadata": {},
   "outputs": [
    {
     "name": "stdout",
     "output_type": "stream",
     "text": [
      "NN training mse =  0.11029937960859768  & mae =  0.17177198509252847  & rmse =  0.33211350410454205\n"
     ]
    }
   ],
   "source": [
    "tree_mse = mean_squared_error(targetAll_sample_train, gs_pipe_NN.predict(dataAll_sample_train))\n",
    "tree_mae = mean_absolute_error(targetAll_sample_train, gs_pipe_NN.predict(dataAll_sample_train))\n",
    "print(\"NN training mse = \",tree_mse,\" & mae = \",tree_mae,\" & rmse = \", sqrt(tree_mse))"
   ]
  },
  {
   "cell_type": "code",
   "execution_count": 32,
   "metadata": {},
   "outputs": [
    {
     "data": {
      "text/html": [
       "<div>\n",
       "<style scoped>\n",
       "    .dataframe tbody tr th:only-of-type {\n",
       "        vertical-align: middle;\n",
       "    }\n",
       "\n",
       "    .dataframe tbody tr th {\n",
       "        vertical-align: top;\n",
       "    }\n",
       "\n",
       "    .dataframe thead th {\n",
       "        text-align: right;\n",
       "    }\n",
       "</style>\n",
       "<table border=\"1\" class=\"dataframe\">\n",
       "  <thead>\n",
       "    <tr style=\"text-align: right;\">\n",
       "      <th></th>\n",
       "      <th>mean_score</th>\n",
       "      <th>std_score</th>\n",
       "      <th>max_score</th>\n",
       "      <th>min_score</th>\n",
       "      <th>dt__hidden_layer_sizes</th>\n",
       "      <th>rfi_fs__n_features_</th>\n",
       "    </tr>\n",
       "  </thead>\n",
       "  <tbody>\n",
       "    <tr>\n",
       "      <th>5</th>\n",
       "      <td>0.729986</td>\n",
       "      <td>0.013612</td>\n",
       "      <td>0.752468</td>\n",
       "      <td>0.709690</td>\n",
       "      <td>90.0</td>\n",
       "      <td>29.0</td>\n",
       "    </tr>\n",
       "    <tr>\n",
       "      <th>4</th>\n",
       "      <td>0.728047</td>\n",
       "      <td>0.009559</td>\n",
       "      <td>0.737711</td>\n",
       "      <td>0.710105</td>\n",
       "      <td>90.0</td>\n",
       "      <td>25.0</td>\n",
       "    </tr>\n",
       "    <tr>\n",
       "      <th>2</th>\n",
       "      <td>0.727012</td>\n",
       "      <td>0.012266</td>\n",
       "      <td>0.748596</td>\n",
       "      <td>0.715069</td>\n",
       "      <td>75.0</td>\n",
       "      <td>29.0</td>\n",
       "    </tr>\n",
       "    <tr>\n",
       "      <th>1</th>\n",
       "      <td>0.726768</td>\n",
       "      <td>0.011284</td>\n",
       "      <td>0.741454</td>\n",
       "      <td>0.706991</td>\n",
       "      <td>75.0</td>\n",
       "      <td>25.0</td>\n",
       "    </tr>\n",
       "    <tr>\n",
       "      <th>7</th>\n",
       "      <td>0.724869</td>\n",
       "      <td>0.013893</td>\n",
       "      <td>0.744613</td>\n",
       "      <td>0.705641</td>\n",
       "      <td>100.0</td>\n",
       "      <td>25.0</td>\n",
       "    </tr>\n",
       "    <tr>\n",
       "      <th>6</th>\n",
       "      <td>0.722641</td>\n",
       "      <td>0.008477</td>\n",
       "      <td>0.734974</td>\n",
       "      <td>0.711262</td>\n",
       "      <td>100.0</td>\n",
       "      <td>20.0</td>\n",
       "    </tr>\n",
       "    <tr>\n",
       "      <th>0</th>\n",
       "      <td>0.721139</td>\n",
       "      <td>0.009025</td>\n",
       "      <td>0.736246</td>\n",
       "      <td>0.711898</td>\n",
       "      <td>75.0</td>\n",
       "      <td>20.0</td>\n",
       "    </tr>\n",
       "    <tr>\n",
       "      <th>3</th>\n",
       "      <td>0.719531</td>\n",
       "      <td>0.013628</td>\n",
       "      <td>0.736945</td>\n",
       "      <td>0.702504</td>\n",
       "      <td>90.0</td>\n",
       "      <td>20.0</td>\n",
       "    </tr>\n",
       "    <tr>\n",
       "      <th>8</th>\n",
       "      <td>0.718575</td>\n",
       "      <td>0.017634</td>\n",
       "      <td>0.750458</td>\n",
       "      <td>0.701524</td>\n",
       "      <td>100.0</td>\n",
       "      <td>29.0</td>\n",
       "    </tr>\n",
       "  </tbody>\n",
       "</table>\n",
       "</div>"
      ],
      "text/plain": [
       "   mean_score  std_score  max_score  min_score  dt__hidden_layer_sizes  \\\n",
       "5    0.729986   0.013612   0.752468   0.709690                    90.0   \n",
       "4    0.728047   0.009559   0.737711   0.710105                    90.0   \n",
       "2    0.727012   0.012266   0.748596   0.715069                    75.0   \n",
       "1    0.726768   0.011284   0.741454   0.706991                    75.0   \n",
       "7    0.724869   0.013893   0.744613   0.705641                   100.0   \n",
       "6    0.722641   0.008477   0.734974   0.711262                   100.0   \n",
       "0    0.721139   0.009025   0.736246   0.711898                    75.0   \n",
       "3    0.719531   0.013628   0.736945   0.702504                    90.0   \n",
       "8    0.718575   0.017634   0.750458   0.701524                   100.0   \n",
       "\n",
       "   rfi_fs__n_features_  \n",
       "5                 29.0  \n",
       "4                 25.0  \n",
       "2                 29.0  \n",
       "1                 25.0  \n",
       "7                 25.0  \n",
       "6                 20.0  \n",
       "0                 20.0  \n",
       "3                 20.0  \n",
       "8                 29.0  "
      ]
     },
     "execution_count": 32,
     "metadata": {},
     "output_type": "execute_result"
    }
   ],
   "source": [
    "results_NN = get_search_results(gs_pipe_NN)\n",
    "results_NN"
   ]
  },
  {
   "cell_type": "code",
   "execution_count": 33,
   "metadata": {},
   "outputs": [
    {
     "data": {
      "application/javascript": [
       "var spec = {\"config\": {\"view\": {\"width\": 400, \"height\": 300}, \"mark\": {\"tooltip\": null}}, \"data\": {\"name\": \"data-2e6024d75616605599688ca61735423e\"}, \"mark\": {\"type\": \"line\", \"point\": true}, \"encoding\": {\"x\": {\"type\": \"quantitative\", \"field\": \"dt__hidden_layer_sizes\", \"title\": \"Hidden Layer size\"}, \"y\": {\"type\": \"quantitative\", \"field\": \"mean_score\", \"scale\": {\"zero\": false}, \"title\": \"AUC Score\"}}, \"title\": \"NN Performance Comparison\", \"$schema\": \"https://vega.github.io/schema/vega-lite/v3.2.1.json\", \"datasets\": {\"data-2e6024d75616605599688ca61735423e\": [{\"mean_score\": 0.72998635949794, \"std_score\": 0.013612042934901992, \"max_score\": 0.7524683514408903, \"min_score\": 0.7096903723422212, \"dt__hidden_layer_sizes\": 90.0, \"rfi_fs__n_features_\": 29.0}, {\"mean_score\": 0.7270123664442553, \"std_score\": 0.012265538586654566, \"max_score\": 0.7485958866437414, \"min_score\": 0.7150688043965551, \"dt__hidden_layer_sizes\": 75.0, \"rfi_fs__n_features_\": 29.0}, {\"mean_score\": 0.7185752196128731, \"std_score\": 0.017633956321534684, \"max_score\": 0.7504577901604376, \"min_score\": 0.7015237209105157, \"dt__hidden_layer_sizes\": 100.0, \"rfi_fs__n_features_\": 29.0}]}};\n",
       "var opt = {};\n",
       "var type = \"vega-lite\";\n",
       "var id = \"d31eaa33-98f3-4130-8245-bb634c5b3fb8\";\n",
       "\n",
       "var output_area = this;\n",
       "\n",
       "require([\"nbextensions/jupyter-vega/index\"], function(vega) {\n",
       "  var target = document.createElement(\"div\");\n",
       "  target.id = id;\n",
       "  target.className = \"vega-embed\";\n",
       "\n",
       "  var style = document.createElement(\"style\");\n",
       "  style.textContent = [\n",
       "    \".vega-embed .error p {\",\n",
       "    \"  color: firebrick;\",\n",
       "    \"  font-size: 14px;\",\n",
       "    \"}\",\n",
       "  ].join(\"\\\\n\");\n",
       "\n",
       "  // element is a jQuery wrapped DOM element inside the output area\n",
       "  // see http://ipython.readthedocs.io/en/stable/api/generated/\\\n",
       "  // IPython.display.html#IPython.display.Javascript.__init__\n",
       "  element[0].appendChild(target);\n",
       "  element[0].appendChild(style);\n",
       "\n",
       "  vega.render(\"#\" + id, spec, type, opt, output_area);\n",
       "}, function (err) {\n",
       "  if (err.requireType !== \"scripterror\") {\n",
       "    throw(err);\n",
       "  }\n",
       "});\n"
      ],
      "text/plain": [
       "<vega.vegalite.VegaLite at 0x2b301c58ac8>"
      ]
     },
     "metadata": {
      "jupyter-vega": "#d31eaa33-98f3-4130-8245-bb634c5b3fb8"
     },
     "output_type": "display_data"
    },
    {
     "data": {
      "text/plain": []
     },
     "execution_count": 33,
     "metadata": {},
     "output_type": "execute_result"
    },
    {
     "data": {
      "image/png": "[encoded data removed]"
     },
     "metadata": {
      "jupyter-vega": "#d31eaa33-98f3-4130-8245-bb634c5b3fb8"
     },
     "output_type": "display_data"
    }
   ],
   "source": [
    "results_NN_10_features = results_NN[results_NN['rfi_fs__n_features_'] == 29.0]\n",
    "\n",
    "alt.Chart(results_NN_10_features, \n",
    "          title='NN Performance Comparison'\n",
    "         ).mark_line(point=True).encode(\n",
    "    alt.X('dt__hidden_layer_sizes', title='Hidden Layer size'),\n",
    "    alt.Y('mean_score', title='AUC Score', scale=alt.Scale(zero=False))\n",
    ")"
   ]
  },
  {
   "cell_type": "markdown",
   "metadata": {},
   "source": [
    "## Testing Models"
   ]
  },
  {
   "cell_type": "code",
   "execution_count": 34,
   "metadata": {},
   "outputs": [
    {
     "data": {
      "text/plain": [
       "0.7073333068483364"
      ]
     },
     "execution_count": 34,
     "metadata": {},
     "output_type": "execute_result"
    }
   ],
   "source": [
    "from sklearn.model_selection import cross_val_score\n",
    "\n",
    "cv_method_ttest = KFold(n_splits=10, random_state=111)\n",
    "\n",
    "cv_results_DT = cross_val_score(estimator=gs_pipe_DT.best_estimator_,\n",
    "                                 X=dataAll_sample_test,\n",
    "                                 y=targetAll_sample_test, \n",
    "                                 cv=cv_method_ttest, \n",
    "                                 n_jobs=-2)\n",
    "cv_results_DT.mean()"
   ]
  },
  {
   "cell_type": "code",
   "execution_count": 35,
   "metadata": {},
   "outputs": [
    {
     "data": {
      "text/plain": [
       "0.6872616637081966"
      ]
     },
     "execution_count": 35,
     "metadata": {},
     "output_type": "execute_result"
    }
   ],
   "source": [
    "cv_results_BR = cross_val_score(estimator=gs_pipe_BR.best_estimator_,\n",
    "                                 X=dataAll_sample_test,\n",
    "                                 y=targetAll_sample_test, \n",
    "                                 cv=cv_method_ttest, \n",
    "                                 n_jobs=-2)\n",
    "cv_results_BR.mean()"
   ]
  },
  {
   "cell_type": "code",
   "execution_count": 36,
   "metadata": {},
   "outputs": [
    {
     "data": {
      "text/plain": [
       "0.6848329559010012"
      ]
     },
     "execution_count": 36,
     "metadata": {},
     "output_type": "execute_result"
    }
   ],
   "source": [
    "cv_results_NN = cross_val_score(estimator=gs_pipe_NN.best_estimator_,\n",
    "                                 X=dataAll_sample_test,\n",
    "                                 y=targetAll_sample_test, \n",
    "                                 cv=cv_method_ttest, \n",
    "                                 n_jobs=-2)\n",
    "cv_results_NN.mean()"
   ]
  },
  {
   "cell_type": "markdown",
   "metadata": {},
   "source": [
    "## Predicting WIES"
   ]
  },
  {
   "cell_type": "code",
   "execution_count": 37,
   "metadata": {},
   "outputs": [
    {
     "name": "stdout",
     "output_type": "stream",
     "text": [
      "Total actual WIES -  3508.5623\n"
     ]
    }
   ],
   "source": [
    "print (\"Total actual WIES - \", targetAll_sample_test.sum())"
   ]
  },
  {
   "cell_type": "code",
   "execution_count": 38,
   "metadata": {},
   "outputs": [
    {
     "name": "stdout",
     "output_type": "stream",
     "text": [
      "Pedicted WIES by Random Forest - 3490.556524086504\n",
      "Pedicted WIES by Bayesian Regression - 3505.5029323942235\n",
      "Pedicted WIES by Neural Network - 3592.774608889421\n"
     ]
    }
   ],
   "source": [
    "print (\"Pedicted WIES by Random Forest -\" ,gs_pipe_DT.predict(dataAll_sample_test).sum())\n",
    "print (\"Pedicted WIES by Bayesian Regression -\" ,gs_pipe_BR.predict(dataAll_sample_test).sum())\n",
    "print (\"Pedicted WIES by Neural Network -\" ,gs_pipe_NN.predict(dataAll_sample_test).sum())"
   ]
  },
  {
   "cell_type": "code",
   "execution_count": 39,
   "metadata": {},
   "outputs": [],
   "source": [
    "# Saving the model\n",
    "import pickle\n",
    "\n",
    "DT_PredictWIES = 'PredictWIES.sav'\n",
    "pickle.dump(gs_pipe_DT, open(DT_PredictWIES,'wb'))"
   ]
  },
  {
   "cell_type": "code",
   "execution_count": 40,
   "metadata": {},
   "outputs": [
    {
     "name": "stdout",
     "output_type": "stream",
     "text": [
      "Predicted WIES Value - 3490.556524086504\n"
     ]
    }
   ],
   "source": [
    "# Testing the predicted model\n",
    "WIES_model = pickle.load(open(DT_PredictWIES, 'rb'))\n",
    "#result = loaded_model.score(dataAll_sample_test, targetAll_sample_test)\n",
    "prediction = WIES_model.predict(dataAll_sample_test).sum()\n",
    "\n",
    "print(\"Predicted WIES Value -\", prediction)"
   ]
  },
  {
   "cell_type": "code",
   "execution_count": null,
   "metadata": {},
   "outputs": [],
   "source": []
  }
 ],
 "metadata": {
  "kernelspec": {
   "display_name": "Python 3",
   "language": "python",
   "name": "python3"
  },
  "language_info": {
   "codemirror_mode": {
    "name": "ipython",
    "version": 3
   },
   "file_extension": ".py",
   "mimetype": "text/x-python",
   "name": "python",
   "nbconvert_exporter": "python",
   "pygments_lexer": "ipython3",
   "version": "3.7.3"
  }
 },
 "nbformat": 4,
 "nbformat_minor": 2
}
