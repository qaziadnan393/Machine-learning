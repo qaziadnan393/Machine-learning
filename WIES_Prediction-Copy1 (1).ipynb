{
 "cells": [
  {
   "cell_type": "markdown",
   "metadata": {},
   "source": [
    "## Data Preparation \n",
    "\n",
    "### Loading Dataset\n",
    "\n",
    "We will load the dataset for most relevant 95% DRGs"
   ]
  },
  {
   "cell_type": "code",
   "execution_count": 1,
   "metadata": {},
   "outputs": [],
   "source": [
    "# Required packages\n",
    "import pandas as pd\n",
    "import numpy as np\n",
    "from sklearn import preprocessing\n",
    "from sklearn.pipeline import Pipeline\n",
    "from sklearn.ensemble import RandomForestRegressor\n",
    "import altair as alt\n",
    "alt.renderers.enable('notebook')\n",
    "from sklearn.metrics import mean_squared_error\n",
    "from sklearn.metrics import mean_absolute_error\n",
    "from math import sqrt"
   ]
  },
  {
   "cell_type": "code",
   "execution_count": 2,
   "metadata": {},
   "outputs": [
    {
     "data": {
      "text/html": [
       "<div>\n",
       "<style scoped>\n",
       "    .dataframe tbody tr th:only-of-type {\n",
       "        vertical-align: middle;\n",
       "    }\n",
       "\n",
       "    .dataframe tbody tr th {\n",
       "        vertical-align: top;\n",
       "    }\n",
       "\n",
       "    .dataframe thead th {\n",
       "        text-align: right;\n",
       "    }\n",
       "</style>\n",
       "<table border=\"1\" class=\"dataframe\">\n",
       "  <thead>\n",
       "    <tr style=\"text-align: right;\">\n",
       "      <th></th>\n",
       "      <th>PatientID</th>\n",
       "      <th>IPEpisodeID</th>\n",
       "      <th>Gender Code</th>\n",
       "      <th>Age On Admission</th>\n",
       "      <th>Birth Weight</th>\n",
       "      <th>ATSI Flag</th>\n",
       "      <th>Admission Source Code</th>\n",
       "      <th>Admission Type Code</th>\n",
       "      <th>Admission Specialty</th>\n",
       "      <th>Discharge Specialty</th>\n",
       "      <th>Admission Ward Code</th>\n",
       "      <th>Discharge Ward Code</th>\n",
       "      <th>Separation Method Code</th>\n",
       "      <th>DRG Code</th>\n",
       "      <th>ICU LOS Hours</th>\n",
       "      <th>Total LOS Days</th>\n",
       "      <th>HITH Days</th>\n",
       "      <th>LOS Type</th>\n",
       "      <th>WIES Value</th>\n",
       "    </tr>\n",
       "  </thead>\n",
       "  <tbody>\n",
       "    <tr>\n",
       "      <th>0</th>\n",
       "      <td>973538</td>\n",
       "      <td>3320175</td>\n",
       "      <td>M</td>\n",
       "      <td>56</td>\n",
       "      <td>NaN</td>\n",
       "      <td>No</td>\n",
       "      <td>T</td>\n",
       "      <td>P</td>\n",
       "      <td>HIHC</td>\n",
       "      <td>HIHC</td>\n",
       "      <td>F2B</td>\n",
       "      <td>FHITH</td>\n",
       "      <td>H</td>\n",
       "      <td>K01C</td>\n",
       "      <td>NaN</td>\n",
       "      <td>34</td>\n",
       "      <td>67.94</td>\n",
       "      <td>Multiday</td>\n",
       "      <td>8.3579</td>\n",
       "    </tr>\n",
       "    <tr>\n",
       "      <th>1</th>\n",
       "      <td>1198129</td>\n",
       "      <td>3327705</td>\n",
       "      <td>F</td>\n",
       "      <td>81</td>\n",
       "      <td>NaN</td>\n",
       "      <td>No</td>\n",
       "      <td>S</td>\n",
       "      <td>S</td>\n",
       "      <td>GBS</td>\n",
       "      <td>GBS</td>\n",
       "      <td>SHITH</td>\n",
       "      <td>SHITH</td>\n",
       "      <td>H</td>\n",
       "      <td>G70A</td>\n",
       "      <td>NaN</td>\n",
       "      <td>10</td>\n",
       "      <td>55.36</td>\n",
       "      <td>Multiday</td>\n",
       "      <td>4.0218</td>\n",
       "    </tr>\n",
       "    <tr>\n",
       "      <th>2</th>\n",
       "      <td>319442</td>\n",
       "      <td>3333120</td>\n",
       "      <td>M</td>\n",
       "      <td>82</td>\n",
       "      <td>NaN</td>\n",
       "      <td>No</td>\n",
       "      <td>H</td>\n",
       "      <td>C</td>\n",
       "      <td>45</td>\n",
       "      <td>26</td>\n",
       "      <td>F2C</td>\n",
       "      <td>FHITH</td>\n",
       "      <td>H</td>\n",
       "      <td>K01C</td>\n",
       "      <td>NaN</td>\n",
       "      <td>18</td>\n",
       "      <td>102.62</td>\n",
       "      <td>Multiday</td>\n",
       "      <td>6.7687</td>\n",
       "    </tr>\n",
       "    <tr>\n",
       "      <th>3</th>\n",
       "      <td>1210448</td>\n",
       "      <td>3353681</td>\n",
       "      <td>M</td>\n",
       "      <td>88</td>\n",
       "      <td>NaN</td>\n",
       "      <td>No</td>\n",
       "      <td>H</td>\n",
       "      <td>C</td>\n",
       "      <td>CRGS</td>\n",
       "      <td>UGIG</td>\n",
       "      <td>F2E</td>\n",
       "      <td>F3E</td>\n",
       "      <td>H</td>\n",
       "      <td>G02A</td>\n",
       "      <td>146.62</td>\n",
       "      <td>41</td>\n",
       "      <td>0.00</td>\n",
       "      <td>Multiday</td>\n",
       "      <td>9.5665</td>\n",
       "    </tr>\n",
       "    <tr>\n",
       "      <th>4</th>\n",
       "      <td>387487</td>\n",
       "      <td>3355364</td>\n",
       "      <td>M</td>\n",
       "      <td>72</td>\n",
       "      <td>NaN</td>\n",
       "      <td>No</td>\n",
       "      <td>H</td>\n",
       "      <td>C</td>\n",
       "      <td>IMSD</td>\n",
       "      <td>IMSD</td>\n",
       "      <td>S2A</td>\n",
       "      <td>S3E</td>\n",
       "      <td>S</td>\n",
       "      <td>F63A</td>\n",
       "      <td>NaN</td>\n",
       "      <td>59</td>\n",
       "      <td>0.00</td>\n",
       "      <td>Multiday</td>\n",
       "      <td>9.7236</td>\n",
       "    </tr>\n",
       "  </tbody>\n",
       "</table>\n",
       "</div>"
      ],
      "text/plain": [
       "   PatientID  IPEpisodeID Gender Code  Age On Admission  Birth Weight  \\\n",
       "0     973538      3320175           M                56           NaN   \n",
       "1    1198129      3327705           F                81           NaN   \n",
       "2     319442      3333120           M                82           NaN   \n",
       "3    1210448      3353681           M                88           NaN   \n",
       "4     387487      3355364           M                72           NaN   \n",
       "\n",
       "  ATSI Flag Admission Source Code Admission Type Code Admission Specialty  \\\n",
       "0        No                     T                   P                HIHC   \n",
       "1        No                     S                   S                 GBS   \n",
       "2        No                     H                   C                  45   \n",
       "3        No                     H                   C                CRGS   \n",
       "4        No                     H                   C                IMSD   \n",
       "\n",
       "  Discharge Specialty Admission Ward Code Discharge Ward Code  \\\n",
       "0                HIHC                 F2B               FHITH   \n",
       "1                 GBS               SHITH               SHITH   \n",
       "2                  26                 F2C               FHITH   \n",
       "3                UGIG                 F2E                 F3E   \n",
       "4                IMSD                 S2A                 S3E   \n",
       "\n",
       "  Separation Method Code DRG Code  ICU LOS Hours  Total LOS Days  HITH Days  \\\n",
       "0                      H     K01C            NaN              34      67.94   \n",
       "1                      H     G70A            NaN              10      55.36   \n",
       "2                      H     K01C            NaN              18     102.62   \n",
       "3                      H     G02A         146.62              41       0.00   \n",
       "4                      S     F63A            NaN              59       0.00   \n",
       "\n",
       "   LOS Type  WIES Value  \n",
       "0  Multiday      8.3579  \n",
       "1  Multiday      4.0218  \n",
       "2  Multiday      6.7687  \n",
       "3  Multiday      9.5665  \n",
       "4  Multiday      9.7236  "
      ]
     },
     "execution_count": 2,
     "metadata": {},
     "output_type": "execute_result"
    }
   ],
   "source": [
    "# Importing the data\n",
    "episode = pd.read_csv('D:/alber/Documents/TheRelevant95.csv', header = 0, sep=',', names = ['PatientID','IPEpisodeID','Gender Code',\n",
    "                                                                     'Age On Admission','Birth Weight','ATSI Flag',\n",
    "                                                                     'Admission Source Code','Admission Type Code',\n",
    "                                                                     'Admission Specialty','Discharge Specialty',\n",
    "                                                                     'Admission Ward Code','Discharge Ward Code',\n",
    "                                                                     'Separation Method Code','DRG Code',\n",
    "                                                                     'ICU LOS Hours','Total LOS Days','HITH Days',\n",
    "                                                                     'LOS Type','WIES Value'])\n",
    "\n",
    "episode.head()"
   ]
  },
  {
   "cell_type": "markdown",
   "metadata": {},
   "source": [
    "### Checking for Missing Values\n",
    "\n",
    "Let's make sure we do not have any missing values"
   ]
  },
  {
   "cell_type": "code",
   "execution_count": 3,
   "metadata": {},
   "outputs": [
    {
     "data": {
      "text/plain": [
       "PatientID                      0\n",
       "IPEpisodeID                    0\n",
       "Gender Code                    0\n",
       "Age On Admission               0\n",
       "Birth Weight              245181\n",
       "ATSI Flag                      0\n",
       "Admission Source Code          0\n",
       "Admission Type Code            0\n",
       "Admission Specialty            0\n",
       "Discharge Specialty            0\n",
       "Admission Ward Code            0\n",
       "Discharge Ward Code            0\n",
       "Separation Method Code         0\n",
       "DRG Code                       0\n",
       "ICU LOS Hours             245169\n",
       "Total LOS Days                 0\n",
       "HITH Days                      0\n",
       "LOS Type                       0\n",
       "WIES Value                     0\n",
       "dtype: int64"
      ]
     },
     "execution_count": 3,
     "metadata": {},
     "output_type": "execute_result"
    }
   ],
   "source": [
    "episode.isna().sum()"
   ]
  },
  {
   "cell_type": "code",
   "execution_count": 4,
   "metadata": {},
   "outputs": [],
   "source": [
    "# Removing the columns with missing values\n",
    "# Splitting the data in target and given variables\n",
    "dataAll = episode.drop(columns=['IPEpisodeID','PatientID','DRG Code','WIES Value','Birth Weight','ICU LOS Hours'])\n",
    "targetAll = episode['WIES Value']"
   ]
  },
  {
   "cell_type": "code",
   "execution_count": 5,
   "metadata": {},
   "outputs": [
    {
     "data": {
      "text/plain": [
       "Gender Code               0\n",
       "Age On Admission          0\n",
       "ATSI Flag                 0\n",
       "Admission Source Code     0\n",
       "Admission Type Code       0\n",
       "Admission Specialty       0\n",
       "Discharge Specialty       0\n",
       "Admission Ward Code       0\n",
       "Discharge Ward Code       0\n",
       "Separation Method Code    0\n",
       "Total LOS Days            0\n",
       "HITH Days                 0\n",
       "LOS Type                  0\n",
       "dtype: int64"
      ]
     },
     "execution_count": 5,
     "metadata": {},
     "output_type": "execute_result"
    }
   ],
   "source": [
    "dataAll.isna().sum()"
   ]
  },
  {
   "cell_type": "markdown",
   "metadata": {},
   "source": [
    "### Encoding Categorical Features\n",
    "\n",
    "Prior to modeling, it is essential to encode all categorical features (both the target feature and the descriptive features) into a set of numerical features."
   ]
  },
  {
   "cell_type": "code",
   "execution_count": 6,
   "metadata": {},
   "outputs": [],
   "source": [
    "# One hot encoding for categorical variables\n",
    "categorical_cols = dataAll.columns[dataAll.dtypes==object].tolist()\n",
    "\n",
    "for col in categorical_cols:\n",
    "    n = len(dataAll[col].unique())\n",
    "    if (n == 2):\n",
    "        dataAll[col] = pd.get_dummies(dataAll[col], drop_first=True)\n",
    "        \n",
    "dataAll = pd.get_dummies(dataAll)"
   ]
  },
  {
   "cell_type": "markdown",
   "metadata": {},
   "source": [
    "### Scaling of Features\n",
    "\n",
    "After encoding all the categorical features, we perform a min-max scaling of the descriptive features."
   ]
  },
  {
   "cell_type": "code",
   "execution_count": 7,
   "metadata": {},
   "outputs": [
    {
     "name": "stderr",
     "output_type": "stream",
     "text": [
      "D:\\alber\\Documents\\R\\Anaconda\\lib\\site-packages\\sklearn\\preprocessing\\data.py:334: DataConversionWarning: Data with input dtype uint8, int64, float64 were all converted to float64 by MinMaxScaler.\n",
      "  return self.partial_fit(X, y)\n",
      "D:\\alber\\Documents\\R\\Anaconda\\lib\\site-packages\\sklearn\\preprocessing\\data.py:334: DataConversionWarning: Data with input dtype uint8, int64, float64 were all converted to float64 by MinMaxScaler.\n",
      "  return self.partial_fit(X, y)\n"
     ]
    }
   ],
   "source": [
    "# Retaining a copy of the original data\n",
    "Data_dfAll = dataAll.copy()\n",
    "\n",
    "# Apply Min-max scaling\n",
    "Data_scaler = preprocessing.MinMaxScaler()\n",
    "\n",
    "Data_scaler.fit(dataAll)\n",
    "dataAll = Data_scaler.fit_transform(dataAll)"
   ]
  },
  {
   "cell_type": "markdown",
   "metadata": {},
   "source": [
    "## Feature Selection & Ranking\n",
    "\n",
    "Let's have a look at the most important 10 features as selected by Random Forest Importance (RFI) in the full dataset. \n",
    "This is for a quick ranking of the most relevant 10 features to gain some insight into the problem at hand."
   ]
  },
  {
   "cell_type": "code",
   "execution_count": 8,
   "metadata": {},
   "outputs": [
    {
     "name": "stdout",
     "output_type": "stream",
     "text": [
      "['LOS Type_Multiday' 'Total LOS Days' 'LOS Type_Same day'\n",
      " 'Age On Admission' 'Discharge Specialty_44' 'Admission Ward Code_FDPU'\n",
      " 'Admission Type Code_P' 'Admission Specialty_7' 'Discharge Specialty_DUA'\n",
      " 'Discharge Specialty_CRGS']\n"
     ]
    },
    {
     "data": {
      "text/plain": [
       "array([0.4857134 , 0.26005406, 0.04700439, 0.02268351, 0.01879055,\n",
       "       0.01196935, 0.008558  , 0.00791199, 0.00730819, 0.00568784])"
      ]
     },
     "execution_count": 8,
     "metadata": {},
     "output_type": "execute_result"
    }
   ],
   "source": [
    "# Feature selection and ranking\n",
    "num_features = 10\n",
    "model_rfiAll = RandomForestRegressor(n_estimators=80, max_depth=15)\n",
    "model_rfiAll.fit(dataAll, targetAll)\n",
    "fs_indices_rfiAll = np.argsort(model_rfiAll.feature_importances_)[::-1][0:num_features]\n",
    "\n",
    "best_features_rfiAll = Data_dfAll.columns[fs_indices_rfiAll].values\n",
    "print(best_features_rfiAll)\n",
    "\n",
    "feature_importances_rfiAll = model_rfiAll.feature_importances_[fs_indices_rfiAll]\n",
    "feature_importances_rfiAll"
   ]
  },
  {
   "cell_type": "code",
   "execution_count": 9,
   "metadata": {},
   "outputs": [],
   "source": [
    "def plot_imp(best_features, scores, method_name, color):\n",
    "    \n",
    "    df = pd.DataFrame({'features': best_features, \n",
    "                       'importances': scores})\n",
    "    \n",
    "    chart = alt.Chart(df, \n",
    "                      width=500, \n",
    "                      title=method_name + ' Feature Importances'\n",
    "                     ).mark_bar(opacity=0.85, \n",
    "                                color=color).encode(\n",
    "        alt.X('features', title='Feature', sort=None, axis=alt.AxisConfig(labelAngle=45)),\n",
    "        alt.Y('importances', title='Importance')\n",
    "    )\n",
    "    \n",
    "    return chart"
   ]
  },
  {
   "cell_type": "code",
   "execution_count": 10,
   "metadata": {},
   "outputs": [
    {
     "data": {
      "application/javascript": [
       "var spec = {\"config\": {\"view\": {\"width\": 400, \"height\": 300}, \"mark\": {\"tooltip\": null}}, \"data\": {\"name\": \"data-4b81edeb7eb05f7e296f3c6c308ac9d5\"}, \"mark\": {\"type\": \"bar\", \"color\": \"blue\", \"opacity\": 0.85}, \"encoding\": {\"x\": {\"type\": \"nominal\", \"axis\": {\"labelAngle\": 45}, \"field\": \"features\", \"sort\": null, \"title\": \"Feature\"}, \"y\": {\"type\": \"quantitative\", \"field\": \"importances\", \"title\": \"Importance\"}}, \"title\": \"Random Forest Feature Importances\", \"width\": 500, \"$schema\": \"https://vega.github.io/schema/vega-lite/v3.2.1.json\", \"datasets\": {\"data-4b81edeb7eb05f7e296f3c6c308ac9d5\": [{\"features\": \"LOS Type_Multiday\", \"importances\": 0.485713400965088}, {\"features\": \"Total LOS Days\", \"importances\": 0.2600540634396468}, {\"features\": \"LOS Type_Same day\", \"importances\": 0.04700439153264464}, {\"features\": \"Age On Admission\", \"importances\": 0.02268350549214234}, {\"features\": \"Discharge Specialty_44\", \"importances\": 0.018790545985822155}, {\"features\": \"Admission Ward Code_FDPU\", \"importances\": 0.011969347371883605}, {\"features\": \"Admission Type Code_P\", \"importances\": 0.008557995560166707}, {\"features\": \"Admission Specialty_7\", \"importances\": 0.007911994466416038}, {\"features\": \"Discharge Specialty_DUA\", \"importances\": 0.007308188223409148}, {\"features\": \"Discharge Specialty_CRGS\", \"importances\": 0.005687843023871047}]}};\n",
       "var opt = {};\n",
       "var type = \"vega-lite\";\n",
       "var id = \"52e4f62a-8178-4e66-96f0-8be2c013e519\";\n",
       "\n",
       "var output_area = this;\n",
       "\n",
       "require([\"nbextensions/jupyter-vega/index\"], function(vega) {\n",
       "  var target = document.createElement(\"div\");\n",
       "  target.id = id;\n",
       "  target.className = \"vega-embed\";\n",
       "\n",
       "  var style = document.createElement(\"style\");\n",
       "  style.textContent = [\n",
       "    \".vega-embed .error p {\",\n",
       "    \"  color: firebrick;\",\n",
       "    \"  font-size: 14px;\",\n",
       "    \"}\",\n",
       "  ].join(\"\\\\n\");\n",
       "\n",
       "  // element is a jQuery wrapped DOM element inside the output area\n",
       "  // see http://ipython.readthedocs.io/en/stable/api/generated/\\\n",
       "  // IPython.display.html#IPython.display.Javascript.__init__\n",
       "  element[0].appendChild(target);\n",
       "  element[0].appendChild(style);\n",
       "\n",
       "  vega.render(\"#\" + id, spec, type, opt, output_area);\n",
       "}, function (err) {\n",
       "  if (err.requireType !== \"scripterror\") {\n",
       "    throw(err);\n",
       "  }\n",
       "});\n"
      ],
      "text/plain": [
       "<vega.vegalite.VegaLite at 0x2b3777cdc88>"
      ]
     },
     "metadata": {
      "jupyter-vega": "#52e4f62a-8178-4e66-96f0-8be2c013e519"
     },
     "output_type": "display_data"
    },
    {
     "data": {
      "text/plain": []
     },
     "execution_count": 10,
     "metadata": {},
     "output_type": "execute_result"
    },
    {
     "data": {
      "image/png": "[encoded data removed]"
     },
     "metadata": {
      "jupyter-vega": "#52e4f62a-8178-4e66-96f0-8be2c013e519"
     },
     "output_type": "display_data"
    }
   ],
   "source": [
    "plot_imp(best_features_rfiAll, feature_importances_rfiAll, 'Random Forest', 'blue')"
   ]
  },
  {
   "cell_type": "markdown",
   "metadata": {},
   "source": [
    "### Data Sampling & Train-Test Splitting\n",
    "\n",
    "The original dataset has around 250K rows, which is a lot. So, we would like to work with a small sample here with 20K rows. Thus, we will do the following:\n",
    "\n",
    "- Randomly select 20K rows from the full dataset.\n",
    "- Split this sample into train and test partitions with a 70:30 ratio using stratification."
   ]
  },
  {
   "cell_type": "code",
   "execution_count": 8,
   "metadata": {},
   "outputs": [
    {
     "name": "stdout",
     "output_type": "stream",
     "text": [
      "(30000, 311)\n",
      "(30000, 1)\n"
     ]
    }
   ],
   "source": [
    "# Data sampling\n",
    "n_samples = 30000\n",
    "\n",
    "dataAll_sample = pd.DataFrame(dataAll).sample(n=n_samples, random_state=8).values\n",
    "targetAll_sample = pd.DataFrame(targetAll).sample(n=n_samples, random_state=8).values\n",
    "\n",
    "print(dataAll_sample.shape)\n",
    "print(targetAll_sample.shape)"
   ]
  },
  {
   "cell_type": "code",
   "execution_count": 9,
   "metadata": {},
   "outputs": [
    {
     "name": "stdout",
     "output_type": "stream",
     "text": [
      "(21000, 311)\n",
      "(9000, 311)\n"
     ]
    }
   ],
   "source": [
    "# Train-test splitting\n",
    "from sklearn.model_selection import train_test_split\n",
    "\n",
    "dataAll_sample_train, dataAll_sample_test, \\\n",
    "targetAll_sample_train, targetAll_sample_test = train_test_split(dataAll_sample, targetAll_sample, \n",
    "                                                    test_size = 0.3, random_state=999)\n",
    "\n",
    "print(dataAll_sample_train.shape)\n",
    "print(dataAll_sample_test.shape)"
   ]
  },
  {
   "cell_type": "markdown",
   "metadata": {},
   "source": [
    "## Modelling"
   ]
  },
  {
   "cell_type": "code",
   "execution_count": 10,
   "metadata": {},
   "outputs": [],
   "source": [
    "# 5-fold stratified cross-validation evaluation method for hyperparameter tuning.\n",
    "\n",
    "from sklearn.model_selection import KFold, GridSearchCV\n",
    "cv_method = KFold(n_splits=5, random_state=999)"
   ]
  },
  {
   "cell_type": "markdown",
   "metadata": {},
   "source": [
    "### Random Forest"
   ]
  },
  {
   "cell_type": "code",
   "execution_count": 11,
   "metadata": {},
   "outputs": [],
   "source": [
    "from sklearn.base import BaseEstimator, TransformerMixin\n",
    "\n",
    "# custom function for RFI feature selection inside a pipeline\n",
    "# here we use n_estimators=100\n",
    "class RFIFeatureSelector(BaseEstimator, TransformerMixin):\n",
    "    \n",
    "    # class constructor \n",
    "    # make sure class attributes end with a \"_\"\n",
    "    # per scikit-learn convention to avoid errors\n",
    "    def __init__(self, n_features_=10):\n",
    "        self.n_features_ = n_features_\n",
    "        self.fs_indices_ = None\n",
    "\n",
    "    # override the fit function\n",
    "    def fit(self, X, y):\n",
    "        from sklearn.ensemble import RandomForestRegressor\n",
    "        from numpy import argsort\n",
    "        model_rfi = RandomForestRegressor(n_estimators=80, max_depth=15)\n",
    "        model_rfi.fit(X, y)\n",
    "        self.fs_indices_ = argsort(model_rfi.feature_importances_)[::-1][0:self.n_features_] \n",
    "        return self \n",
    "    \n",
    "    # override the transform function\n",
    "    def transform(self, X, y=None):\n",
    "        return X[:, self.fs_indices_]"
   ]
  },
  {
   "cell_type": "code",
   "execution_count": 12,
   "metadata": {},
   "outputs": [
    {
     "name": "stdout",
     "output_type": "stream",
     "text": [
      "Fitting 5 folds for each of 18 candidates, totalling 90 fits\n"
     ]
    },
    {
     "name": "stderr",
     "output_type": "stream",
     "text": [
      "[Parallel(n_jobs=-2)]: Using backend LokyBackend with 3 concurrent workers.\n",
      "[Parallel(n_jobs=-2)]: Done  35 tasks      | elapsed:  9.1min\n",
      "[Parallel(n_jobs=-2)]: Done  90 out of  90 | elapsed: 24.2min finished\n",
      "D:\\alber\\Documents\\R\\Anaconda\\lib\\site-packages\\ipykernel_launcher.py:19: DataConversionWarning: A column-vector y was passed when a 1d array was expected. Please change the shape of y to (n_samples,), for example using ravel().\n",
      "D:\\alber\\Documents\\R\\Anaconda\\lib\\site-packages\\sklearn\\ensemble\\forest.py:246: FutureWarning: The default value of n_estimators will change from 10 in version 0.20 to 100 in 0.22.\n",
      "  \"10 in version 0.20 to 100 in 0.22.\", FutureWarning)\n",
      "D:\\alber\\Documents\\R\\Anaconda\\lib\\site-packages\\sklearn\\pipeline.py:267: DataConversionWarning: A column-vector y was passed when a 1d array was expected. Please change the shape of y to (n_samples,), for example using ravel().\n",
      "  self._final_estimator.fit(Xt, y, **fit_params)\n"
     ]
    }
   ],
   "source": [
    "pipe_DT = Pipeline([('rfi_fs', RFIFeatureSelector()),\n",
    "                    ('dt', RandomForestRegressor())])\n",
    "\n",
    "\n",
    "params_pipe_DT = {'rfi_fs__n_features_': [290, dataAll.shape[1]],\n",
    "                  'dt__max_depth': [21, 24, 27],\n",
    "                  'dt__min_samples_split': [25, 28,32]}\n",
    "\n",
    "gs_pipe_DT = GridSearchCV(estimator=pipe_DT, \n",
    "                          param_grid=params_pipe_DT, \n",
    "                          cv=cv_method,\n",
    "                          refit=True,\n",
    "                          n_jobs=-2,\n",
    "                          verbose=2) \n",
    "\n",
    "gs_pipe_DT.fit(dataAll_sample_train, targetAll_sample_train);"
   ]
  },
  {
   "cell_type": "code",
   "execution_count": 13,
   "metadata": {},
   "outputs": [
    {
     "data": {
      "text/plain": [
       "{'dt__max_depth': 21, 'dt__min_samples_split': 25, 'rfi_fs__n_features_': 311}"
      ]
     },
     "execution_count": 13,
     "metadata": {},
     "output_type": "execute_result"
    }
   ],
   "source": [
    "gs_pipe_DT.best_params_"
   ]
  },
  {
   "cell_type": "code",
   "execution_count": 14,
   "metadata": {},
   "outputs": [
    {
     "data": {
      "text/plain": [
       "0.7485165468992472"
      ]
     },
     "execution_count": 14,
     "metadata": {},
     "output_type": "execute_result"
    }
   ],
   "source": [
    "gs_pipe_DT.best_score_"
   ]
  },
  {
   "cell_type": "code",
   "execution_count": 15,
   "metadata": {},
   "outputs": [
    {
     "name": "stdout",
     "output_type": "stream",
     "text": [
      "Random Forest training mse =  0.09657170840653054  & mae =  0.13583895055168024  & rmse =  0.31075988867054666\n"
     ]
    }
   ],
   "source": [
    "tree_mse = mean_squared_error(targetAll_sample_train, gs_pipe_DT.predict(dataAll_sample_train))\n",
    "tree_mae = mean_absolute_error(targetAll_sample_train, gs_pipe_DT.predict(dataAll_sample_train))\n",
    "print(\"Random Forest training mse = \",tree_mse,\" & mae = \",tree_mae,\" & rmse = \", sqrt(tree_mse))"
   ]
  },
  {
   "cell_type": "code",
   "execution_count": 16,
   "metadata": {},
   "outputs": [],
   "source": [
    "# custom function to format the search results as a Pandas data frame\n",
    "def get_search_results(gs):\n",
    "\n",
    "    def model_result(scores, params):\n",
    "        scores = {'mean_score': np.mean(scores),\n",
    "             'std_score': np.std(scores),\n",
    "             'min_score': np.min(scores),\n",
    "             'max_score': np.max(scores)}\n",
    "        return pd.Series({**params,**scores})\n",
    "\n",
    "    models = []\n",
    "    scores = []\n",
    "\n",
    "    for i in range(gs.n_splits_):\n",
    "        key = f\"split{i}_test_score\"\n",
    "        r = gs.cv_results_[key]        \n",
    "        scores.append(r.reshape(-1,1))\n",
    "\n",
    "    all_scores = np.hstack(scores)\n",
    "    for p, s in zip(gs.cv_results_['params'], all_scores):\n",
    "        models.append((model_result(s, p)))\n",
    "\n",
    "    pipe_results = pd.concat(models, axis=1).T.sort_values(['mean_score'], ascending=False)\n",
    "\n",
    "    columns_first = ['mean_score', 'std_score', 'max_score', 'min_score']\n",
    "    columns = columns_first + [c for c in pipe_results.columns if c not in columns_first]\n",
    "\n",
    "    return pipe_results[columns]"
   ]
  },
  {
   "cell_type": "code",
   "execution_count": 17,
   "metadata": {},
   "outputs": [
    {
     "data": {
      "text/html": [
       "<div>\n",
       "<style scoped>\n",
       "    .dataframe tbody tr th:only-of-type {\n",
       "        vertical-align: middle;\n",
       "    }\n",
       "\n",
       "    .dataframe tbody tr th {\n",
       "        vertical-align: top;\n",
       "    }\n",
       "\n",
       "    .dataframe thead th {\n",
       "        text-align: right;\n",
       "    }\n",
       "</style>\n",
       "<table border=\"1\" class=\"dataframe\">\n",
       "  <thead>\n",
       "    <tr style=\"text-align: right;\">\n",
       "      <th></th>\n",
       "      <th>mean_score</th>\n",
       "      <th>std_score</th>\n",
       "      <th>max_score</th>\n",
       "      <th>min_score</th>\n",
       "      <th>dt__max_depth</th>\n",
       "      <th>dt__min_samples_split</th>\n",
       "      <th>rfi_fs__n_features_</th>\n",
       "    </tr>\n",
       "  </thead>\n",
       "  <tbody>\n",
       "    <tr>\n",
       "      <th>1</th>\n",
       "      <td>0.748517</td>\n",
       "      <td>0.014485</td>\n",
       "      <td>0.766443</td>\n",
       "      <td>0.729759</td>\n",
       "      <td>21.0</td>\n",
       "      <td>25.0</td>\n",
       "      <td>311.0</td>\n",
       "    </tr>\n",
       "    <tr>\n",
       "      <th>7</th>\n",
       "      <td>0.747510</td>\n",
       "      <td>0.015273</td>\n",
       "      <td>0.769247</td>\n",
       "      <td>0.732957</td>\n",
       "      <td>24.0</td>\n",
       "      <td>25.0</td>\n",
       "      <td>311.0</td>\n",
       "    </tr>\n",
       "    <tr>\n",
       "      <th>16</th>\n",
       "      <td>0.747160</td>\n",
       "      <td>0.016854</td>\n",
       "      <td>0.770085</td>\n",
       "      <td>0.726852</td>\n",
       "      <td>27.0</td>\n",
       "      <td>32.0</td>\n",
       "      <td>290.0</td>\n",
       "    </tr>\n",
       "    <tr>\n",
       "      <th>0</th>\n",
       "      <td>0.745649</td>\n",
       "      <td>0.011259</td>\n",
       "      <td>0.762980</td>\n",
       "      <td>0.734280</td>\n",
       "      <td>21.0</td>\n",
       "      <td>25.0</td>\n",
       "      <td>290.0</td>\n",
       "    </tr>\n",
       "    <tr>\n",
       "      <th>12</th>\n",
       "      <td>0.744422</td>\n",
       "      <td>0.018244</td>\n",
       "      <td>0.770497</td>\n",
       "      <td>0.719079</td>\n",
       "      <td>27.0</td>\n",
       "      <td>25.0</td>\n",
       "      <td>290.0</td>\n",
       "    </tr>\n",
       "  </tbody>\n",
       "</table>\n",
       "</div>"
      ],
      "text/plain": [
       "    mean_score  std_score  max_score  min_score  dt__max_depth  \\\n",
       "1     0.748517   0.014485   0.766443   0.729759           21.0   \n",
       "7     0.747510   0.015273   0.769247   0.732957           24.0   \n",
       "16    0.747160   0.016854   0.770085   0.726852           27.0   \n",
       "0     0.745649   0.011259   0.762980   0.734280           21.0   \n",
       "12    0.744422   0.018244   0.770497   0.719079           27.0   \n",
       "\n",
       "    dt__min_samples_split  rfi_fs__n_features_  \n",
       "1                    25.0                311.0  \n",
       "7                    25.0                311.0  \n",
       "16                   32.0                290.0  \n",
       "0                    25.0                290.0  \n",
       "12                   25.0                290.0  "
      ]
     },
     "execution_count": 17,
     "metadata": {},
     "output_type": "execute_result"
    }
   ],
   "source": [
    "results_DT = get_search_results(gs_pipe_DT)\n",
    "results_DT.head()"
   ]
  },
  {
   "cell_type": "code",
   "execution_count": 18,
   "metadata": {},
   "outputs": [
    {
     "data": {
      "application/javascript": [
       "var spec = {\"config\": {\"view\": {\"width\": 400, \"height\": 300}, \"mark\": {\"tooltip\": null}}, \"data\": {\"name\": \"data-63a21f25a7acfc3ca371b307e62b87e3\"}, \"mark\": {\"type\": \"line\", \"point\": true}, \"encoding\": {\"color\": {\"type\": \"nominal\", \"field\": \"dt__max_depth\", \"title\": \"Max Depth\"}, \"x\": {\"type\": \"quantitative\", \"field\": \"dt__min_samples_split\", \"title\": \"Min Samples for Split\"}, \"y\": {\"type\": \"quantitative\", \"field\": \"mean_score\", \"scale\": {\"zero\": false}, \"title\": \"AUC Score\"}}, \"title\": \"DT Performance Comparison\", \"$schema\": \"https://vega.github.io/schema/vega-lite/v3.3.0.json\", \"datasets\": {\"data-63a21f25a7acfc3ca371b307e62b87e3\": [{\"mean_score\": 0.7471601418409117, \"std_score\": 0.01685434075534809, \"max_score\": 0.7700851046983911, \"min_score\": 0.7268519771324322, \"dt__max_depth\": 27.0, \"dt__min_samples_split\": 32.0, \"rfi_fs__n_features_\": 290.0}, {\"mean_score\": 0.7456487291449653, \"std_score\": 0.011258657571659784, \"max_score\": 0.7629800587694051, \"min_score\": 0.7342804033357164, \"dt__max_depth\": 21.0, \"dt__min_samples_split\": 25.0, \"rfi_fs__n_features_\": 290.0}, {\"mean_score\": 0.7444215164587148, \"std_score\": 0.018243935208000307, \"max_score\": 0.7704969017551644, \"min_score\": 0.7190792706725562, \"dt__max_depth\": 27.0, \"dt__min_samples_split\": 25.0, \"rfi_fs__n_features_\": 290.0}, {\"mean_score\": 0.7432089521473505, \"std_score\": 0.013907773864077433, \"max_score\": 0.7639332237680079, \"min_score\": 0.726586726147932, \"dt__max_depth\": 21.0, \"dt__min_samples_split\": 28.0, \"rfi_fs__n_features_\": 290.0}, {\"mean_score\": 0.7427111785615834, \"std_score\": 0.018492780083990655, \"max_score\": 0.7685310681148936, \"min_score\": 0.7212658427408832, \"dt__max_depth\": 24.0, \"dt__min_samples_split\": 25.0, \"rfi_fs__n_features_\": 290.0}, {\"mean_score\": 0.7410092774579483, \"std_score\": 0.016870744524383575, \"max_score\": 0.7679615406609521, \"min_score\": 0.7186090612938301, \"dt__max_depth\": 24.0, \"dt__min_samples_split\": 28.0, \"rfi_fs__n_features_\": 290.0}, {\"mean_score\": 0.7390067965123308, \"std_score\": 0.016997461057792977, \"max_score\": 0.7595156311802452, \"min_score\": 0.7162283981244537, \"dt__max_depth\": 24.0, \"dt__min_samples_split\": 32.0, \"rfi_fs__n_features_\": 290.0}, {\"mean_score\": 0.736031196924723, \"std_score\": 0.017139994670842578, \"max_score\": 0.752490556942177, \"min_score\": 0.7127420224050771, \"dt__max_depth\": 27.0, \"dt__min_samples_split\": 28.0, \"rfi_fs__n_features_\": 290.0}, {\"mean_score\": 0.7327393416927817, \"std_score\": 0.015198341345725756, \"max_score\": 0.7529443550476089, \"min_score\": 0.7147237239591333, \"dt__max_depth\": 21.0, \"dt__min_samples_split\": 32.0, \"rfi_fs__n_features_\": 290.0}]}};\n",
       "var opt = {};\n",
       "var type = \"vega-lite\";\n",
       "var id = \"64ec9af3-a361-4cb4-a00e-6ca60f813f7e\";\n",
       "\n",
       "var output_area = this;\n",
       "\n",
       "require([\"nbextensions/jupyter-vega/index\"], function(vega) {\n",
       "  var target = document.createElement(\"div\");\n",
       "  target.id = id;\n",
       "  target.className = \"vega-embed\";\n",
       "\n",
       "  var style = document.createElement(\"style\");\n",
       "  style.textContent = [\n",
       "    \".vega-embed .error p {\",\n",
       "    \"  color: firebrick;\",\n",
       "    \"  font-size: 14px;\",\n",
       "    \"}\",\n",
       "  ].join(\"\\\\n\");\n",
       "\n",
       "  // element is a jQuery wrapped DOM element inside the output area\n",
       "  // see http://ipython.readthedocs.io/en/stable/api/generated/\\\n",
       "  // IPython.display.html#IPython.display.Javascript.__init__\n",
       "  element[0].appendChild(target);\n",
       "  element[0].appendChild(style);\n",
       "\n",
       "  vega.render(\"#\" + id, spec, type, opt, output_area);\n",
       "}, function (err) {\n",
       "  if (err.requireType !== \"scripterror\") {\n",
       "    throw(err);\n",
       "  }\n",
       "});\n"
      ],
      "text/plain": [
       "<vega.vegalite.VegaLite at 0x15bc51175f8>"
      ]
     },
     "metadata": {
      "jupyter-vega": "#64ec9af3-a361-4cb4-a00e-6ca60f813f7e"
     },
     "output_type": "display_data"
    },
    {
     "data": {
      "text/plain": []
     },
     "execution_count": 18,
     "metadata": {},
     "output_type": "execute_result"
    },
    {
     "data": {
      "image/png": "[encoded data removed]"
     },
     "metadata": {
      "jupyter-vega": "#64ec9af3-a361-4cb4-a00e-6ca60f813f7e"
     },
     "output_type": "display_data"
    }
   ],
   "source": [
    "results_DT_10_features = results_DT[results_DT['rfi_fs__n_features_'] == 290.0]\n",
    "\n",
    "alt.Chart(results_DT_10_features, \n",
    "          title='DT Performance Comparison'\n",
    "         ).mark_line(point=True).encode(\n",
    "    alt.X('dt__min_samples_split', title='Min Samples for Split'),\n",
    "    alt.Y('mean_score', title='AUC Score', scale=alt.Scale(zero=False)),\n",
    "    alt.Color('dt__max_depth:N', title='Max Depth')\n",
    ")\n"
   ]
  },
  {
   "cell_type": "markdown",
   "metadata": {},
   "source": [
    "### Ridge Regression"
   ]
  },
  {
   "cell_type": "code",
   "execution_count": 19,
   "metadata": {},
   "outputs": [
    {
     "name": "stdout",
     "output_type": "stream",
     "text": [
      "Fitting 5 folds for each of 6 candidates, totalling 30 fits\n"
     ]
    },
    {
     "name": "stderr",
     "output_type": "stream",
     "text": [
      "[Parallel(n_jobs=-2)]: Using backend LokyBackend with 3 concurrent workers.\n",
      "[Parallel(n_jobs=-2)]: Done  30 out of  30 | elapsed:  5.9min finished\n",
      "D:\\alber\\Documents\\R\\Anaconda\\lib\\site-packages\\ipykernel_launcher.py:19: DataConversionWarning: A column-vector y was passed when a 1d array was expected. Please change the shape of y to (n_samples,), for example using ravel().\n"
     ]
    },
    {
     "data": {
      "text/plain": [
       "GridSearchCV(cv=KFold(n_splits=5, random_state=999, shuffle=False),\n",
       "       error_score='raise-deprecating',\n",
       "       estimator=Pipeline(memory=None,\n",
       "     steps=[('rfi_fs', RFIFeatureSelector(n_features_=10)), ('lr', Ridge(alpha=1.0, copy_X=True, fit_intercept=True, max_iter=None,\n",
       "   normalize=False, random_state=None, solver='auto', tol=0.001))]),\n",
       "       fit_params=None, iid='warn', n_jobs=-2,\n",
       "       param_grid={'rfi_fs__n_features_': [130, 170, 210, 250, 290, 311]},\n",
       "       pre_dispatch='2*n_jobs', refit=True, return_train_score='warn',\n",
       "       scoring=None, verbose=2)"
      ]
     },
     "execution_count": 19,
     "metadata": {},
     "output_type": "execute_result"
    }
   ],
   "source": [
    "from sklearn.linear_model import LinearRegression, BayesianRidge, SGDRegressor, Ridge\n",
    "\n",
    "pipe_BR = Pipeline([('rfi_fs', RFIFeatureSelector()),\n",
    "                    ('lr', Ridge())])\n",
    "\n",
    "\n",
    "params_pipe_BR = {'rfi_fs__n_features_': [130, 170, 210, 250, 290, dataAll.shape[1]],\n",
    "                  }\n",
    "\n",
    "gs_pipe_BR = GridSearchCV(estimator=pipe_BR, \n",
    "                          param_grid=params_pipe_BR, \n",
    "                          cv=cv_method,\n",
    "                          refit=True,\n",
    "                          n_jobs=-2,\n",
    "                          verbose=2) \n",
    "\n",
    "gs_pipe_BR.fit(dataAll_sample_train, targetAll_sample_train)"
   ]
  },
  {
   "cell_type": "code",
   "execution_count": 20,
   "metadata": {},
   "outputs": [
    {
     "data": {
      "text/plain": [
       "{'rfi_fs__n_features_': 290}"
      ]
     },
     "execution_count": 20,
     "metadata": {},
     "output_type": "execute_result"
    }
   ],
   "source": [
    "gs_pipe_BR.best_params_"
   ]
  },
  {
   "cell_type": "code",
   "execution_count": 21,
   "metadata": {},
   "outputs": [
    {
     "data": {
      "text/plain": [
       "0.7437154042616463"
      ]
     },
     "execution_count": 21,
     "metadata": {},
     "output_type": "execute_result"
    }
   ],
   "source": [
    "gs_pipe_BR.best_score_"
   ]
  },
  {
   "cell_type": "code",
   "execution_count": 22,
   "metadata": {},
   "outputs": [
    {
     "name": "stdout",
     "output_type": "stream",
     "text": [
      "Reg training mse =  0.132290119814397  & mae =  0.17472474521788942  & rmse =  0.3637170876029844\n"
     ]
    }
   ],
   "source": [
    "tree_mse = mean_squared_error(targetAll_sample_train, gs_pipe_BR.predict(dataAll_sample_train))\n",
    "tree_mae = mean_absolute_error(targetAll_sample_train, gs_pipe_BR.predict(dataAll_sample_train))\n",
    "print(\"Reg training mse = \",tree_mse,\" & mae = \",tree_mae,\" & rmse = \", sqrt(tree_mse))"
   ]
  },
  {
   "cell_type": "code",
   "execution_count": 23,
   "metadata": {},
   "outputs": [
    {
     "data": {
      "text/html": [
       "<div>\n",
       "<style scoped>\n",
       "    .dataframe tbody tr th:only-of-type {\n",
       "        vertical-align: middle;\n",
       "    }\n",
       "\n",
       "    .dataframe tbody tr th {\n",
       "        vertical-align: top;\n",
       "    }\n",
       "\n",
       "    .dataframe thead th {\n",
       "        text-align: right;\n",
       "    }\n",
       "</style>\n",
       "<table border=\"1\" class=\"dataframe\">\n",
       "  <thead>\n",
       "    <tr style=\"text-align: right;\">\n",
       "      <th></th>\n",
       "      <th>mean_score</th>\n",
       "      <th>std_score</th>\n",
       "      <th>max_score</th>\n",
       "      <th>min_score</th>\n",
       "      <th>rfi_fs__n_features_</th>\n",
       "    </tr>\n",
       "  </thead>\n",
       "  <tbody>\n",
       "    <tr>\n",
       "      <th>4</th>\n",
       "      <td>0.743715</td>\n",
       "      <td>0.013039</td>\n",
       "      <td>0.760744</td>\n",
       "      <td>0.727708</td>\n",
       "      <td>290.0</td>\n",
       "    </tr>\n",
       "    <tr>\n",
       "      <th>3</th>\n",
       "      <td>0.743694</td>\n",
       "      <td>0.013092</td>\n",
       "      <td>0.760635</td>\n",
       "      <td>0.727616</td>\n",
       "      <td>250.0</td>\n",
       "    </tr>\n",
       "    <tr>\n",
       "      <th>5</th>\n",
       "      <td>0.743682</td>\n",
       "      <td>0.012994</td>\n",
       "      <td>0.760782</td>\n",
       "      <td>0.727745</td>\n",
       "      <td>311.0</td>\n",
       "    </tr>\n",
       "    <tr>\n",
       "      <th>2</th>\n",
       "      <td>0.743651</td>\n",
       "      <td>0.012683</td>\n",
       "      <td>0.759776</td>\n",
       "      <td>0.727641</td>\n",
       "      <td>210.0</td>\n",
       "    </tr>\n",
       "    <tr>\n",
       "      <th>1</th>\n",
       "      <td>0.741759</td>\n",
       "      <td>0.012140</td>\n",
       "      <td>0.756156</td>\n",
       "      <td>0.725942</td>\n",
       "      <td>170.0</td>\n",
       "    </tr>\n",
       "    <tr>\n",
       "      <th>0</th>\n",
       "      <td>0.738353</td>\n",
       "      <td>0.012511</td>\n",
       "      <td>0.753236</td>\n",
       "      <td>0.721508</td>\n",
       "      <td>130.0</td>\n",
       "    </tr>\n",
       "  </tbody>\n",
       "</table>\n",
       "</div>"
      ],
      "text/plain": [
       "   mean_score  std_score  max_score  min_score  rfi_fs__n_features_\n",
       "4    0.743715   0.013039   0.760744   0.727708                290.0\n",
       "3    0.743694   0.013092   0.760635   0.727616                250.0\n",
       "5    0.743682   0.012994   0.760782   0.727745                311.0\n",
       "2    0.743651   0.012683   0.759776   0.727641                210.0\n",
       "1    0.741759   0.012140   0.756156   0.725942                170.0\n",
       "0    0.738353   0.012511   0.753236   0.721508                130.0"
      ]
     },
     "execution_count": 23,
     "metadata": {},
     "output_type": "execute_result"
    }
   ],
   "source": [
    "results_BR = get_search_results(gs_pipe_BR)\n",
    "results_BR"
   ]
  },
  {
   "cell_type": "code",
   "execution_count": 24,
   "metadata": {},
   "outputs": [
    {
     "data": {
      "application/javascript": [
       "var spec = {\"config\": {\"view\": {\"width\": 400, \"height\": 300}, \"mark\": {\"tooltip\": null}}, \"data\": {\"name\": \"data-457ae91e3ed12be04bcd3021b105dd10\"}, \"mark\": {\"type\": \"line\", \"point\": true}, \"encoding\": {\"x\": {\"type\": \"quantitative\", \"field\": \"rfi_fs__n_features_\", \"title\": \"Features\"}, \"y\": {\"type\": \"quantitative\", \"field\": \"mean_score\", \"scale\": {\"zero\": false}, \"title\": \"AUC Score\"}}, \"title\": \"BR Performance Comparison\", \"$schema\": \"https://vega.github.io/schema/vega-lite/v3.3.0.json\", \"datasets\": {\"data-457ae91e3ed12be04bcd3021b105dd10\": [{\"mean_score\": 0.7437154042616463, \"std_score\": 0.013038651866868868, \"max_score\": 0.760743742204876, \"min_score\": 0.7277077095065906, \"rfi_fs__n_features_\": 290.0}, {\"mean_score\": 0.7436939489019168, \"std_score\": 0.013092053144335678, \"max_score\": 0.7606349424169998, \"min_score\": 0.7276161111114245, \"rfi_fs__n_features_\": 250.0}, {\"mean_score\": 0.7436816694273625, \"std_score\": 0.01299350388437167, \"max_score\": 0.7607821620065724, \"min_score\": 0.7277448708392074, \"rfi_fs__n_features_\": 311.0}, {\"mean_score\": 0.7436510031779318, \"std_score\": 0.01268288406839929, \"max_score\": 0.7597762930297056, \"min_score\": 0.7276405704759764, \"rfi_fs__n_features_\": 210.0}, {\"mean_score\": 0.7417589905821205, \"std_score\": 0.012139789556978775, \"max_score\": 0.7561556308035414, \"min_score\": 0.7259421433877439, \"rfi_fs__n_features_\": 170.0}, {\"mean_score\": 0.738353066220497, \"std_score\": 0.012511048019919088, \"max_score\": 0.7532362047827712, \"min_score\": 0.7215083253149744, \"rfi_fs__n_features_\": 130.0}]}};\n",
       "var opt = {};\n",
       "var type = \"vega-lite\";\n",
       "var id = \"cc2a2cc4-11b7-4267-9317-b4df1be4d0e6\";\n",
       "\n",
       "var output_area = this;\n",
       "\n",
       "require([\"nbextensions/jupyter-vega/index\"], function(vega) {\n",
       "  var target = document.createElement(\"div\");\n",
       "  target.id = id;\n",
       "  target.className = \"vega-embed\";\n",
       "\n",
       "  var style = document.createElement(\"style\");\n",
       "  style.textContent = [\n",
       "    \".vega-embed .error p {\",\n",
       "    \"  color: firebrick;\",\n",
       "    \"  font-size: 14px;\",\n",
       "    \"}\",\n",
       "  ].join(\"\\\\n\");\n",
       "\n",
       "  // element is a jQuery wrapped DOM element inside the output area\n",
       "  // see http://ipython.readthedocs.io/en/stable/api/generated/\\\n",
       "  // IPython.display.html#IPython.display.Javascript.__init__\n",
       "  element[0].appendChild(target);\n",
       "  element[0].appendChild(style);\n",
       "\n",
       "  vega.render(\"#\" + id, spec, type, opt, output_area);\n",
       "}, function (err) {\n",
       "  if (err.requireType !== \"scripterror\") {\n",
       "    throw(err);\n",
       "  }\n",
       "});\n"
      ],
      "text/plain": [
       "<vega.vegalite.VegaLite at 0x15bc80158d0>"
      ]
     },
     "metadata": {
      "jupyter-vega": "#cc2a2cc4-11b7-4267-9317-b4df1be4d0e6"
     },
     "output_type": "display_data"
    },
    {
     "data": {
      "text/plain": []
     },
     "execution_count": 24,
     "metadata": {},
     "output_type": "execute_result"
    },
    {
     "data": {
      "image/png": "[encoded data removed]"
     },
     "metadata": {
      "jupyter-vega": "#cc2a2cc4-11b7-4267-9317-b4df1be4d0e6"
     },
     "output_type": "display_data"
    }
   ],
   "source": [
    "alt.Chart(results_BR, \n",
    "          title='BR Performance Comparison'\n",
    "         ).mark_line(point=True).encode(\n",
    "    alt.X('rfi_fs__n_features_', title='Features'),\n",
    "    alt.Y('mean_score', title='AUC Score', scale=alt.Scale(zero=False))\n",
    ")"
   ]
  },
  {
   "cell_type": "markdown",
   "metadata": {},
   "source": [
    "### Neural Network"
   ]
  },
  {
   "cell_type": "code",
   "execution_count": 25,
   "metadata": {},
   "outputs": [
    {
     "name": "stdout",
     "output_type": "stream",
     "text": [
      "Fitting 5 folds for each of 12 candidates, totalling 60 fits\n"
     ]
    },
    {
     "name": "stderr",
     "output_type": "stream",
     "text": [
      "[Parallel(n_jobs=-2)]: Using backend LokyBackend with 3 concurrent workers.\n",
      "[Parallel(n_jobs=-2)]: Done  35 tasks      | elapsed: 10.1min\n",
      "[Parallel(n_jobs=-2)]: Done  60 out of  60 | elapsed: 17.1min finished\n",
      "D:\\alber\\Documents\\R\\Anaconda\\lib\\site-packages\\ipykernel_launcher.py:19: DataConversionWarning: A column-vector y was passed when a 1d array was expected. Please change the shape of y to (n_samples,), for example using ravel().\n",
      "D:\\alber\\Documents\\R\\Anaconda\\lib\\site-packages\\sklearn\\neural_network\\multilayer_perceptron.py:1316: DataConversionWarning: A column-vector y was passed when a 1d array was expected. Please change the shape of y to (n_samples, ), for example using ravel().\n",
      "  y = column_or_1d(y, warn=True)\n"
     ]
    }
   ],
   "source": [
    "from sklearn.neural_network import MLPRegressor\n",
    "\n",
    "pipe_NN = Pipeline([('rfi_fs', RFIFeatureSelector()),\n",
    "                    ('dt', MLPRegressor())])\n",
    "\n",
    "\n",
    "params_pipe_NN = {'rfi_fs__n_features_': [25, 29, 33],\n",
    "                   'dt__hidden_layer_sizes': [80, 90, 95, 105]}\n",
    "                  #  'dt__solver': ['lbfgs', 'sgd', 'adam']}\n",
    "\n",
    "gs_pipe_NN = GridSearchCV(estimator=pipe_NN, \n",
    "                          param_grid=params_pipe_NN, \n",
    "                          cv=cv_method,\n",
    "                          refit=True,\n",
    "                          n_jobs=-2,\n",
    "                          verbose=2) \n",
    "\n",
    "gs_pipe_NN.fit(dataAll_sample_train, targetAll_sample_train);"
   ]
  },
  {
   "cell_type": "code",
   "execution_count": 26,
   "metadata": {},
   "outputs": [
    {
     "data": {
      "text/plain": [
       "{'dt__hidden_layer_sizes': 80, 'rfi_fs__n_features_': 33}"
      ]
     },
     "execution_count": 26,
     "metadata": {},
     "output_type": "execute_result"
    }
   ],
   "source": [
    "gs_pipe_NN.best_params_"
   ]
  },
  {
   "cell_type": "code",
   "execution_count": 27,
   "metadata": {},
   "outputs": [
    {
     "data": {
      "text/plain": [
       "0.7348099950542025"
      ]
     },
     "execution_count": 27,
     "metadata": {},
     "output_type": "execute_result"
    }
   ],
   "source": [
    "gs_pipe_NN.best_score_"
   ]
  },
  {
   "cell_type": "code",
   "execution_count": 28,
   "metadata": {},
   "outputs": [
    {
     "name": "stdout",
     "output_type": "stream",
     "text": [
      "NN training mse =  0.11211764414780655  & mae =  0.17254456917914598  & rmse =  0.3348397290463104\n"
     ]
    }
   ],
   "source": [
    "tree_mse = mean_squared_error(targetAll_sample_train, gs_pipe_NN.predict(dataAll_sample_train))\n",
    "tree_mae = mean_absolute_error(targetAll_sample_train, gs_pipe_NN.predict(dataAll_sample_train))\n",
    "print(\"NN training mse = \",tree_mse,\" & mae = \",tree_mae,\" & rmse = \", sqrt(tree_mse))"
   ]
  },
  {
   "cell_type": "code",
   "execution_count": 29,
   "metadata": {},
   "outputs": [
    {
     "data": {
      "text/html": [
       "<div>\n",
       "<style scoped>\n",
       "    .dataframe tbody tr th:only-of-type {\n",
       "        vertical-align: middle;\n",
       "    }\n",
       "\n",
       "    .dataframe tbody tr th {\n",
       "        vertical-align: top;\n",
       "    }\n",
       "\n",
       "    .dataframe thead th {\n",
       "        text-align: right;\n",
       "    }\n",
       "</style>\n",
       "<table border=\"1\" class=\"dataframe\">\n",
       "  <thead>\n",
       "    <tr style=\"text-align: right;\">\n",
       "      <th></th>\n",
       "      <th>mean_score</th>\n",
       "      <th>std_score</th>\n",
       "      <th>max_score</th>\n",
       "      <th>min_score</th>\n",
       "      <th>dt__hidden_layer_sizes</th>\n",
       "      <th>rfi_fs__n_features_</th>\n",
       "    </tr>\n",
       "  </thead>\n",
       "  <tbody>\n",
       "    <tr>\n",
       "      <th>2</th>\n",
       "      <td>0.734810</td>\n",
       "      <td>0.017609</td>\n",
       "      <td>0.759458</td>\n",
       "      <td>0.713151</td>\n",
       "      <td>80.0</td>\n",
       "      <td>33.0</td>\n",
       "    </tr>\n",
       "    <tr>\n",
       "      <th>8</th>\n",
       "      <td>0.734800</td>\n",
       "      <td>0.023251</td>\n",
       "      <td>0.769480</td>\n",
       "      <td>0.701091</td>\n",
       "      <td>95.0</td>\n",
       "      <td>33.0</td>\n",
       "    </tr>\n",
       "    <tr>\n",
       "      <th>0</th>\n",
       "      <td>0.732972</td>\n",
       "      <td>0.022361</td>\n",
       "      <td>0.756238</td>\n",
       "      <td>0.693926</td>\n",
       "      <td>80.0</td>\n",
       "      <td>25.0</td>\n",
       "    </tr>\n",
       "    <tr>\n",
       "      <th>10</th>\n",
       "      <td>0.732052</td>\n",
       "      <td>0.023008</td>\n",
       "      <td>0.760491</td>\n",
       "      <td>0.693828</td>\n",
       "      <td>105.0</td>\n",
       "      <td>29.0</td>\n",
       "    </tr>\n",
       "    <tr>\n",
       "      <th>11</th>\n",
       "      <td>0.731989</td>\n",
       "      <td>0.013573</td>\n",
       "      <td>0.748573</td>\n",
       "      <td>0.716960</td>\n",
       "      <td>105.0</td>\n",
       "      <td>33.0</td>\n",
       "    </tr>\n",
       "    <tr>\n",
       "      <th>1</th>\n",
       "      <td>0.731776</td>\n",
       "      <td>0.017158</td>\n",
       "      <td>0.758589</td>\n",
       "      <td>0.715775</td>\n",
       "      <td>80.0</td>\n",
       "      <td>29.0</td>\n",
       "    </tr>\n",
       "    <tr>\n",
       "      <th>5</th>\n",
       "      <td>0.731252</td>\n",
       "      <td>0.016688</td>\n",
       "      <td>0.757680</td>\n",
       "      <td>0.707670</td>\n",
       "      <td>90.0</td>\n",
       "      <td>33.0</td>\n",
       "    </tr>\n",
       "    <tr>\n",
       "      <th>7</th>\n",
       "      <td>0.731245</td>\n",
       "      <td>0.015921</td>\n",
       "      <td>0.749186</td>\n",
       "      <td>0.711308</td>\n",
       "      <td>95.0</td>\n",
       "      <td>29.0</td>\n",
       "    </tr>\n",
       "    <tr>\n",
       "      <th>6</th>\n",
       "      <td>0.730030</td>\n",
       "      <td>0.019630</td>\n",
       "      <td>0.751982</td>\n",
       "      <td>0.694765</td>\n",
       "      <td>95.0</td>\n",
       "      <td>25.0</td>\n",
       "    </tr>\n",
       "    <tr>\n",
       "      <th>3</th>\n",
       "      <td>0.726951</td>\n",
       "      <td>0.019043</td>\n",
       "      <td>0.749644</td>\n",
       "      <td>0.693318</td>\n",
       "      <td>90.0</td>\n",
       "      <td>25.0</td>\n",
       "    </tr>\n",
       "    <tr>\n",
       "      <th>4</th>\n",
       "      <td>0.725313</td>\n",
       "      <td>0.021437</td>\n",
       "      <td>0.750933</td>\n",
       "      <td>0.694594</td>\n",
       "      <td>90.0</td>\n",
       "      <td>29.0</td>\n",
       "    </tr>\n",
       "    <tr>\n",
       "      <th>9</th>\n",
       "      <td>0.720020</td>\n",
       "      <td>0.025050</td>\n",
       "      <td>0.745873</td>\n",
       "      <td>0.677354</td>\n",
       "      <td>105.0</td>\n",
       "      <td>25.0</td>\n",
       "    </tr>\n",
       "  </tbody>\n",
       "</table>\n",
       "</div>"
      ],
      "text/plain": [
       "    mean_score  std_score  max_score  min_score  dt__hidden_layer_sizes  \\\n",
       "2     0.734810   0.017609   0.759458   0.713151                    80.0   \n",
       "8     0.734800   0.023251   0.769480   0.701091                    95.0   \n",
       "0     0.732972   0.022361   0.756238   0.693926                    80.0   \n",
       "10    0.732052   0.023008   0.760491   0.693828                   105.0   \n",
       "11    0.731989   0.013573   0.748573   0.716960                   105.0   \n",
       "1     0.731776   0.017158   0.758589   0.715775                    80.0   \n",
       "5     0.731252   0.016688   0.757680   0.707670                    90.0   \n",
       "7     0.731245   0.015921   0.749186   0.711308                    95.0   \n",
       "6     0.730030   0.019630   0.751982   0.694765                    95.0   \n",
       "3     0.726951   0.019043   0.749644   0.693318                    90.0   \n",
       "4     0.725313   0.021437   0.750933   0.694594                    90.0   \n",
       "9     0.720020   0.025050   0.745873   0.677354                   105.0   \n",
       "\n",
       "    rfi_fs__n_features_  \n",
       "2                  33.0  \n",
       "8                  33.0  \n",
       "0                  25.0  \n",
       "10                 29.0  \n",
       "11                 33.0  \n",
       "1                  29.0  \n",
       "5                  33.0  \n",
       "7                  29.0  \n",
       "6                  25.0  \n",
       "3                  25.0  \n",
       "4                  29.0  \n",
       "9                  25.0  "
      ]
     },
     "execution_count": 29,
     "metadata": {},
     "output_type": "execute_result"
    }
   ],
   "source": [
    "results_NN = get_search_results(gs_pipe_NN)\n",
    "results_NN"
   ]
  },
  {
   "cell_type": "code",
   "execution_count": 30,
   "metadata": {},
   "outputs": [
    {
     "data": {
      "application/javascript": [
       "var spec = {\"config\": {\"view\": {\"width\": 400, \"height\": 300}, \"mark\": {\"tooltip\": null}}, \"data\": {\"name\": \"data-eb9c10e64f535761e2f708697c054540\"}, \"mark\": {\"type\": \"line\", \"point\": true}, \"encoding\": {\"x\": {\"type\": \"quantitative\", \"field\": \"dt__hidden_layer_sizes\", \"title\": \"Hidden Layer size\"}, \"y\": {\"type\": \"quantitative\", \"field\": \"mean_score\", \"scale\": {\"zero\": false}, \"title\": \"AUC Score\"}}, \"title\": \"NN Performance Comparison\", \"$schema\": \"https://vega.github.io/schema/vega-lite/v3.3.0.json\", \"datasets\": {\"data-eb9c10e64f535761e2f708697c054540\": [{\"mean_score\": 0.7320524846796395, \"std_score\": 0.023008227899192223, \"max_score\": 0.7604906296621883, \"min_score\": 0.6938281833031846, \"dt__hidden_layer_sizes\": 105.0, \"rfi_fs__n_features_\": 29.0}, {\"mean_score\": 0.731776473805166, \"std_score\": 0.01715798066027542, \"max_score\": 0.7585892507422141, \"min_score\": 0.7157745285716874, \"dt__hidden_layer_sizes\": 80.0, \"rfi_fs__n_features_\": 29.0}, {\"mean_score\": 0.7312454021166369, \"std_score\": 0.015921265551403427, \"max_score\": 0.749185774809791, \"min_score\": 0.7113076915788212, \"dt__hidden_layer_sizes\": 95.0, \"rfi_fs__n_features_\": 29.0}, {\"mean_score\": 0.7253132157374301, \"std_score\": 0.02143676678084558, \"max_score\": 0.7509327877928293, \"min_score\": 0.6945941046501782, \"dt__hidden_layer_sizes\": 90.0, \"rfi_fs__n_features_\": 29.0}]}};\n",
       "var opt = {};\n",
       "var type = \"vega-lite\";\n",
       "var id = \"1e6530dc-de37-49df-94fb-5568c7a8f62b\";\n",
       "\n",
       "var output_area = this;\n",
       "\n",
       "require([\"nbextensions/jupyter-vega/index\"], function(vega) {\n",
       "  var target = document.createElement(\"div\");\n",
       "  target.id = id;\n",
       "  target.className = \"vega-embed\";\n",
       "\n",
       "  var style = document.createElement(\"style\");\n",
       "  style.textContent = [\n",
       "    \".vega-embed .error p {\",\n",
       "    \"  color: firebrick;\",\n",
       "    \"  font-size: 14px;\",\n",
       "    \"}\",\n",
       "  ].join(\"\\\\n\");\n",
       "\n",
       "  // element is a jQuery wrapped DOM element inside the output area\n",
       "  // see http://ipython.readthedocs.io/en/stable/api/generated/\\\n",
       "  // IPython.display.html#IPython.display.Javascript.__init__\n",
       "  element[0].appendChild(target);\n",
       "  element[0].appendChild(style);\n",
       "\n",
       "  vega.render(\"#\" + id, spec, type, opt, output_area);\n",
       "}, function (err) {\n",
       "  if (err.requireType !== \"scripterror\") {\n",
       "    throw(err);\n",
       "  }\n",
       "});\n"
      ],
      "text/plain": [
       "<vega.vegalite.VegaLite at 0x15ba4b4a9e8>"
      ]
     },
     "metadata": {
      "jupyter-vega": "#1e6530dc-de37-49df-94fb-5568c7a8f62b"
     },
     "output_type": "display_data"
    },
    {
     "data": {
      "text/plain": []
     },
     "execution_count": 30,
     "metadata": {},
     "output_type": "execute_result"
    },
    {
     "data": {
      "image/png": "[encoded data removed]"
     },
     "metadata": {
      "jupyter-vega": "#1e6530dc-de37-49df-94fb-5568c7a8f62b"
     },
     "output_type": "display_data"
    }
   ],
   "source": [
    "results_NN_10_features = results_NN[results_NN['rfi_fs__n_features_'] == 29.0]\n",
    "\n",
    "alt.Chart(results_NN_10_features, \n",
    "          title='NN Performance Comparison'\n",
    "         ).mark_line(point=True).encode(\n",
    "    alt.X('dt__hidden_layer_sizes', title='Hidden Layer size'),\n",
    "    alt.Y('mean_score', title='AUC Score', scale=alt.Scale(zero=False))\n",
    ")"
   ]
  },
  {
   "cell_type": "markdown",
   "metadata": {},
   "source": [
    "## Testing Models"
   ]
  },
  {
   "cell_type": "code",
   "execution_count": 31,
   "metadata": {},
   "outputs": [
    {
     "data": {
      "text/plain": [
       "0.7305017386524136"
      ]
     },
     "execution_count": 31,
     "metadata": {},
     "output_type": "execute_result"
    }
   ],
   "source": [
    "from sklearn.model_selection import cross_val_score\n",
    "\n",
    "cv_method_ttest = KFold(n_splits=10, random_state=111)\n",
    "\n",
    "cv_results_DT = cross_val_score(estimator=gs_pipe_DT.best_estimator_,\n",
    "                                 X=dataAll_sample_test,\n",
    "                                 y=targetAll_sample_test, \n",
    "                                 cv=cv_method_ttest, \n",
    "                                 n_jobs=-2)\n",
    "cv_results_DT.mean()"
   ]
  },
  {
   "cell_type": "code",
   "execution_count": 32,
   "metadata": {},
   "outputs": [
    {
     "data": {
      "text/plain": [
       "0.7317914194778711"
      ]
     },
     "execution_count": 32,
     "metadata": {},
     "output_type": "execute_result"
    }
   ],
   "source": [
    "cv_results_BR = cross_val_score(estimator=gs_pipe_BR.best_estimator_,\n",
    "                                 X=dataAll_sample_test,\n",
    "                                 y=targetAll_sample_test, \n",
    "                                 cv=cv_method_ttest, \n",
    "                                 n_jobs=-2)\n",
    "cv_results_BR.mean()"
   ]
  },
  {
   "cell_type": "code",
   "execution_count": 36,
   "metadata": {},
   "outputs": [
    {
     "data": {
      "text/plain": [
       "0.6848329559010012"
      ]
     },
     "execution_count": 36,
     "metadata": {},
     "output_type": "execute_result"
    }
   ],
   "source": [
    "cv_results_NN = cross_val_score(estimator=gs_pipe_NN.best_estimator_,\n",
    "                                 X=dataAll_sample_test,\n",
    "                                 y=targetAll_sample_test, \n",
    "                                 cv=cv_method_ttest, \n",
    "                                 n_jobs=-2)\n",
    "cv_results_NN.mean()"
   ]
  },
  {
   "cell_type": "markdown",
   "metadata": {},
   "source": [
    "## Predicting WIES"
   ]
  },
  {
   "cell_type": "code",
   "execution_count": 33,
   "metadata": {},
   "outputs": [
    {
     "name": "stdout",
     "output_type": "stream",
     "text": [
      "Total actual WIES -  5300.0606\n"
     ]
    }
   ],
   "source": [
    "print (\"Total actual WIES - \", targetAll_sample_test.sum())"
   ]
  },
  {
   "cell_type": "code",
   "execution_count": 34,
   "metadata": {},
   "outputs": [
    {
     "name": "stdout",
     "output_type": "stream",
     "text": [
      "Pedicted WIES by Random Forest - 5348.260290725395\n",
      "Pedicted WIES by Ridge Regression - 5350.482809437167\n",
      "Pedicted WIES by Neural Network - 5454.068879323606\n"
     ]
    }
   ],
   "source": [
    "print (\"Pedicted WIES by Random Forest -\" ,gs_pipe_DT.predict(dataAll_sample_test).sum())\n",
    "print (\"Pedicted WIES by Ridge Regression -\" ,gs_pipe_BR.predict(dataAll_sample_test).sum())\n",
    "print (\"Pedicted WIES by Neural Network -\" ,gs_pipe_NN.predict(dataAll_sample_test).sum())"
   ]
  },
  {
   "cell_type": "code",
   "execution_count": 35,
   "metadata": {},
   "outputs": [],
   "source": [
    "# Saving the model\n",
    "import pickle\n",
    "\n",
    "DT_PredictWIES = 'PredictWIES.sav'\n",
    "pickle.dump(gs_pipe_DT, open(DT_PredictWIES,'wb'))"
   ]
  },
  {
   "cell_type": "code",
   "execution_count": 36,
   "metadata": {},
   "outputs": [
    {
     "name": "stdout",
     "output_type": "stream",
     "text": [
      "Predicted WIES Value - 5348.260290725395\n"
     ]
    }
   ],
   "source": [
    "# Testing the predicted model\n",
    "WIES_model = pickle.load(open(DT_PredictWIES, 'rb'))\n",
    "#result = loaded_model.score(dataAll_sample_test, targetAll_sample_test)\n",
    "prediction = WIES_model.predict(dataAll_sample_test).sum()\n",
    "\n",
    "print(\"Predicted WIES Value -\", prediction)"
   ]
  },
  {
   "cell_type": "code",
   "execution_count": null,
   "metadata": {},
   "outputs": [],
   "source": []
  }
 ],
 "metadata": {
  "kernelspec": {
   "display_name": "Python 2",
   "language": "python",
   "name": "python2"
  },
  "language_info": {
   "codemirror_mode": {
    "name": "ipython",
    "version": 2
   },
   "file_extension": ".py",
   "mimetype": "text/x-python",
   "name": "python",
   "nbconvert_exporter": "python",
   "pygments_lexer": "ipython2",
   "version": "2.7.15"
  }
 },
 "nbformat": 4,
 "nbformat_minor": 2
}
